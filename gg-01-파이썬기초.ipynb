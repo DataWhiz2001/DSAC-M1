{
 "cells": [
  {
   "cell_type": "markdown",
   "id": "d49a3380",
   "metadata": {},
   "source": [
    "### p52\n",
    "\n",
    "### 3.파이썬 기초\n",
    "- 3.1 기본변수\n",
    "- 3.2 랜덤숫자\n",
    "- 3.3 Numpy"
   ]
  },
  {
   "cell_type": "markdown",
   "id": "8c6884be",
   "metadata": {},
   "source": [
    "### 3.1. 기본 변수\n",
    "### 정수, 소수, 문자열, 논리값\n",
    "### < 실습 : gg-01-파이썬기초>\n",
    "- 정수(int), 부동소수(float), 문자(strings), 불리언(True/False),\n",
    "- 리스트[list], 튜풀(tuple), 사전{dictionary}->{dict}, for문, if문\n",
    "- 배정(\"=\")기호 - assign"
   ]
  },
  {
   "cell_type": "markdown",
   "id": "ba556e3e",
   "metadata": {},
   "source": [
    "### \" = \" : 값 배정, 대입, 할당(assign)의 의미"
   ]
  },
  {
   "cell_type": "markdown",
   "id": "e2b5bfc8",
   "metadata": {},
   "source": [
    "- k=3\n",
    "- s='사랑'\n",
    "- kk='3"
   ]
  },
  {
   "cell_type": "markdown",
   "id": "76c5b64b",
   "metadata": {},
   "source": [
    "# 변수(Variable)\n",
    "\n",
    "- 데이터(data)를 저장할 수 있는 메모리 공간\n",
    "### 변수 이름\n",
    "\n",
    "- 변수의 이름은 영문자(대소문자), 숫자, 언더스코어(_)로만 구성.\n",
    "- 변수의 이름은 숫자로 시작될 수 없음.\n",
    "- 변수의 이름 사이에는 공백을 포함할 수 없음.\n",
    "- 변수의 이름으로 언어에서 미리 정의된 키워드(keyword)는 사용할 수 없음."
   ]
  },
  {
   "cell_type": "markdown",
   "id": "fdbacfd9",
   "metadata": {},
   "source": [
    "- 변수(Variable)"
   ]
  },
  {
   "cell_type": "code",
   "execution_count": 1,
   "id": "f8ad6558",
   "metadata": {},
   "outputs": [],
   "source": [
    "aa=9"
   ]
  },
  {
   "cell_type": "code",
   "execution_count": 2,
   "id": "2f352193",
   "metadata": {},
   "outputs": [
    {
     "data": {
      "text/plain": [
       "9"
      ]
     },
     "execution_count": 2,
     "metadata": {},
     "output_type": "execute_result"
    }
   ],
   "source": [
    "aa"
   ]
  },
  {
   "cell_type": "code",
   "execution_count": 3,
   "id": "fff9860c",
   "metadata": {},
   "outputs": [
    {
     "data": {
      "text/plain": [
       "99"
      ]
     },
     "execution_count": 3,
     "metadata": {},
     "output_type": "execute_result"
    }
   ],
   "source": [
    "aa=99\n",
    "aa"
   ]
  },
  {
   "cell_type": "code",
   "execution_count": 4,
   "id": "21c1bfce",
   "metadata": {},
   "outputs": [
    {
     "data": {
      "text/plain": [
       "999"
      ]
     },
     "execution_count": 4,
     "metadata": {},
     "output_type": "execute_result"
    }
   ],
   "source": [
    "#;(세미콜론의 의미 : 프로그램 종료)\n",
    "aaa = 999 ; aaa"
   ]
  },
  {
   "cell_type": "code",
   "execution_count": 5,
   "id": "2dc1b591",
   "metadata": {},
   "outputs": [],
   "source": [
    "kk = 22\n",
    "ss = 33"
   ]
  },
  {
   "cell_type": "code",
   "execution_count": 6,
   "id": "feff031d",
   "metadata": {},
   "outputs": [
    {
     "data": {
      "text/plain": [
       "22"
      ]
     },
     "execution_count": 6,
     "metadata": {},
     "output_type": "execute_result"
    }
   ],
   "source": [
    "kk"
   ]
  },
  {
   "cell_type": "code",
   "execution_count": 7,
   "id": "4fbebb61",
   "metadata": {},
   "outputs": [
    {
     "data": {
      "text/plain": [
       "33"
      ]
     },
     "execution_count": 7,
     "metadata": {},
     "output_type": "execute_result"
    }
   ],
   "source": [
    "ss"
   ]
  },
  {
   "cell_type": "code",
   "execution_count": 8,
   "id": "107908d5",
   "metadata": {},
   "outputs": [
    {
     "data": {
      "text/plain": [
       "33"
      ]
     },
     "execution_count": 8,
     "metadata": {},
     "output_type": "execute_result"
    }
   ],
   "source": [
    "#두 개를 한 번에 실행해보고 싶다\n",
    "kk\n",
    "ss\n",
    "#변수를 실행시켜주면 최종 마지막 변수만 실행된다."
   ]
  },
  {
   "cell_type": "code",
   "execution_count": 9,
   "id": "e53d5ba6",
   "metadata": {},
   "outputs": [
    {
     "name": "stdout",
     "output_type": "stream",
     "text": [
      "22\n",
      "33\n"
     ]
    }
   ],
   "source": [
    "# print를 사용해서 두 가지 같이 출력\n",
    "print(kk)\n",
    "print(ss)"
   ]
  },
  {
   "cell_type": "code",
   "execution_count": 10,
   "id": "a5f7e8bc",
   "metadata": {},
   "outputs": [],
   "source": [
    "#변수 지정에 이러한 방식도 있다. \n",
    "#앞부터 순서대로 할당됨.\n",
    "k,s,r =20,30,50"
   ]
  },
  {
   "cell_type": "code",
   "execution_count": 11,
   "id": "6ebcd6c3",
   "metadata": {},
   "outputs": [
    {
     "name": "stdout",
     "output_type": "stream",
     "text": [
      "20 30 50\n"
     ]
    }
   ],
   "source": [
    "print(k,s,r)"
   ]
  },
  {
   "cell_type": "code",
   "execution_count": 12,
   "id": "e6c85671",
   "metadata": {},
   "outputs": [
    {
     "data": {
      "text/plain": [
       "20"
      ]
     },
     "execution_count": 12,
     "metadata": {},
     "output_type": "execute_result"
    }
   ],
   "source": [
    "k"
   ]
  },
  {
   "cell_type": "code",
   "execution_count": 13,
   "id": "83a0800e",
   "metadata": {},
   "outputs": [
    {
     "data": {
      "text/plain": [
       "30"
      ]
     },
     "execution_count": 13,
     "metadata": {},
     "output_type": "execute_result"
    }
   ],
   "source": [
    "s"
   ]
  },
  {
   "cell_type": "code",
   "execution_count": 14,
   "id": "c98f1e92",
   "metadata": {},
   "outputs": [
    {
     "data": {
      "text/plain": [
       "50"
      ]
     },
     "execution_count": 14,
     "metadata": {},
     "output_type": "execute_result"
    }
   ],
   "source": [
    "r"
   ]
  },
  {
   "cell_type": "code",
   "execution_count": 15,
   "id": "d280bb4c",
   "metadata": {},
   "outputs": [
    {
     "data": {
      "text/plain": [
       "50"
      ]
     },
     "execution_count": 15,
     "metadata": {},
     "output_type": "execute_result"
    }
   ],
   "source": [
    "k\n",
    "s\n",
    "r # 마지막 변수만 실행 , # -> 주석 "
   ]
  },
  {
   "cell_type": "code",
   "execution_count": 16,
   "id": "90e803e6",
   "metadata": {},
   "outputs": [
    {
     "name": "stdout",
     "output_type": "stream",
     "text": [
      "20\n",
      "30\n",
      "50\n"
     ]
    }
   ],
   "source": [
    "#주석(comment)\n",
    "#print()함수 <- 전체출력\n",
    "\n",
    "print(k)\n",
    "print(s)\n",
    "print(r)"
   ]
  },
  {
   "cell_type": "markdown",
   "id": "6c71a7fe",
   "metadata": {},
   "source": [
    "###  \" = \"    : 값 배정, 할당(assign)의 의미\n",
    "\n"
   ]
  },
  {
   "cell_type": "code",
   "execution_count": 17,
   "id": "3983fe25",
   "metadata": {},
   "outputs": [
    {
     "name": "stdout",
     "output_type": "stream",
     "text": [
      "0.5 3 True 박준규\n"
     ]
    }
   ],
   "source": [
    "a =0.5\n",
    "x=3\n",
    "y=True   #True,False 대소문자 구분\n",
    "z='박준규'\n",
    "\n",
    "print(a,x,y,z)"
   ]
  },
  {
   "cell_type": "markdown",
   "id": "d0a8dd9c",
   "metadata": {},
   "source": [
    "- 주석(comment) \n",
    "- 블록 주석 설정, 해제 \n",
    "    - jupyter notebook : 'Ctrl + /'  \n",
    "    - python(IDLE) : 'Alt + 3', 'Alt +4'"
   ]
  },
  {
   "cell_type": "markdown",
   "id": "fa9bbeac",
   "metadata": {},
   "source": [
    "## print() 함수"
   ]
  },
  {
   "cell_type": "code",
   "execution_count": 18,
   "id": "00218596",
   "metadata": {},
   "outputs": [
    {
     "name": "stdout",
     "output_type": "stream",
     "text": [
      "DSACM1\n"
     ]
    }
   ],
   "source": [
    "# 주석(comment)\n",
    "# print()함수 : 출력\n",
    "# 만든날짜 : 2023.07.03\n",
    "# 만든이 : 박준규\n",
    "\n",
    "study='DSACM1'\n",
    "\n",
    "print(study)"
   ]
  },
  {
   "cell_type": "markdown",
   "id": "3deb4806",
   "metadata": {},
   "source": [
    "- 문자열 출력"
   ]
  },
  {
   "cell_type": "code",
   "execution_count": 19,
   "id": "f652cd62",
   "metadata": {},
   "outputs": [
    {
     "name": "stdout",
     "output_type": "stream",
     "text": [
      "1. 문자열 출력\n"
     ]
    }
   ],
   "source": [
    "print(\"1. 문자열 출력\")# \" \""
   ]
  },
  {
   "cell_type": "code",
   "execution_count": 20,
   "id": "e58e3509",
   "metadata": {},
   "outputs": [
    {
     "name": "stdout",
     "output_type": "stream",
     "text": [
      "2. 문자열 출력\n"
     ]
    }
   ],
   "source": [
    "print('2. 문자열 출력')# ' '"
   ]
  },
  {
   "cell_type": "code",
   "execution_count": 21,
   "id": "7a5b97c4",
   "metadata": {},
   "outputs": [
    {
     "ename": "SyntaxError",
     "evalue": "unterminated string literal (detected at line 2) (572567093.py, line 2)",
     "output_type": "error",
     "traceback": [
      "\u001b[0;36m  Cell \u001b[0;32mIn[21], line 2\u001b[0;36m\u001b[0m\n\u001b[0;31m    print('3.문자열\u001b[0m\n\u001b[0m          ^\u001b[0m\n\u001b[0;31mSyntaxError\u001b[0m\u001b[0;31m:\u001b[0m unterminated string literal (detected at line 2)\n"
     ]
    }
   ],
   "source": [
    "#오류 발생\n",
    "print('3.문자열\n",
    "출력 연습\n",
    "입니다')"
   ]
  },
  {
   "cell_type": "code",
   "execution_count": 22,
   "id": "cd64124d",
   "metadata": {},
   "outputs": [
    {
     "name": "stdout",
     "output_type": "stream",
     "text": [
      "3.문자열\n",
      "출력 연습\n",
      "입니다\n"
     ]
    }
   ],
   "source": [
    "#''는 행마다 따운표가 필요함. \n",
    "#내가 원하는 모양대로 출력하려 할 땐 따운표 3개씩 해주길\n",
    "print('''3.문자열\n",
    "출력 연습\n",
    "입니다''')"
   ]
  },
  {
   "cell_type": "code",
   "execution_count": 23,
   "id": "6e694ca9",
   "metadata": {},
   "outputs": [
    {
     "name": "stdout",
     "output_type": "stream",
     "text": [
      " 5.\"문자열\"\n",
      "출력 연습\n",
      "입니다\n"
     ]
    }
   ],
   "source": [
    "print(''' 5.\"문자열\"\n",
    "출력 연습\n",
    "입니다''')"
   ]
  },
  {
   "cell_type": "code",
   "execution_count": 24,
   "id": "bd556d7d",
   "metadata": {},
   "outputs": [
    {
     "name": "stdout",
     "output_type": "stream",
     "text": [
      " 5.'문자열'\n",
      "출력 연습\n",
      "입니다\n"
     ]
    }
   ],
   "source": [
    "print(\"\"\" 5.'문자열'\n",
    "출력 연습\n",
    "입니다\"\"\")"
   ]
  },
  {
   "cell_type": "code",
   "execution_count": 25,
   "id": "490a1774",
   "metadata": {},
   "outputs": [
    {
     "name": "stdout",
     "output_type": "stream",
     "text": [
      "DSACM1\n",
      "study\n"
     ]
    }
   ],
   "source": [
    "# 변수와 문자\n",
    "study = \"DSACM1\"\n",
    "\n",
    "print(study)  # 변수 출력\n",
    "print(\"study\")  # 문자열 출력"
   ]
  },
  {
   "cell_type": "code",
   "execution_count": 26,
   "id": "8e1b4f9e",
   "metadata": {},
   "outputs": [],
   "source": [
    "multi = '''이것은 여러 줄로\n",
    "구성된 문자열을 표시하기 위한\n",
    "방법입니다.'''"
   ]
  },
  {
   "cell_type": "code",
   "execution_count": 27,
   "id": "83b67450",
   "metadata": {},
   "outputs": [
    {
     "name": "stdout",
     "output_type": "stream",
     "text": [
      "이것은 여러 줄로\n",
      "구성된 문자열을 표시하기 위한\n",
      "방법입니다.\n"
     ]
    }
   ],
   "source": [
    "print(multi)"
   ]
  },
  {
   "cell_type": "markdown",
   "id": "a2bdd56f",
   "metadata": {},
   "source": [
    "- 연결(+/,)연산자\n",
    "    - +는 문자열끼리만 연결됨\n",
    "    - ,는 문자든 숫자든 다 연결됨"
   ]
  },
  {
   "cell_type": "code",
   "execution_count": 28,
   "id": "7587a5e9",
   "metadata": {},
   "outputs": [
    {
     "name": "stdout",
     "output_type": "stream",
     "text": [
      "안녕 나는파이썬이고 20세 입니다.\n"
     ]
    }
   ],
   "source": [
    "print(\"안녕 나는\" + \"파이썬이고\", \"20\"+\"세 입니다.\")"
   ]
  },
  {
   "cell_type": "code",
   "execution_count": 29,
   "id": "bfad2eca",
   "metadata": {},
   "outputs": [
    {
     "name": "stdout",
     "output_type": "stream",
     "text": [
      "안녕 나는 파이썬이고 20 세 입니다.\n"
     ]
    }
   ],
   "source": [
    "print(\"안녕 나는\" , \"파이썬이고\", 20 ,\"세 입니다.\")"
   ]
  },
  {
   "cell_type": "code",
   "execution_count": 30,
   "id": "a04e6c3d",
   "metadata": {},
   "outputs": [
    {
     "ename": "TypeError",
     "evalue": "unsupported operand type(s) for +: 'int' and 'str'",
     "output_type": "error",
     "traceback": [
      "\u001b[0;31m---------------------------------------------------------------------------\u001b[0m",
      "\u001b[0;31mTypeError\u001b[0m                                 Traceback (most recent call last)",
      "Cell \u001b[0;32mIn[30], line 3\u001b[0m\n\u001b[1;32m      1\u001b[0m \u001b[38;5;66;03m#오류 발생\u001b[39;00m\n\u001b[1;32m      2\u001b[0m \u001b[38;5;66;03m#숫자 앞 뒤 , 로 연결해줘야함\u001b[39;00m\n\u001b[0;32m----> 3\u001b[0m \u001b[38;5;28mprint\u001b[39m(\u001b[38;5;124m\"\u001b[39m\u001b[38;5;124m안녕 나는\u001b[39m\u001b[38;5;124m\"\u001b[39m \u001b[38;5;241m+\u001b[39m \u001b[38;5;124m\"\u001b[39m\u001b[38;5;124m파이썬이고\u001b[39m\u001b[38;5;124m\"\u001b[39m, \u001b[38;5;241;43m20\u001b[39;49m\u001b[43m \u001b[49m\u001b[38;5;241;43m+\u001b[39;49m\u001b[38;5;124;43m\"\u001b[39;49m\u001b[38;5;124;43m세 입니다.\u001b[39;49m\u001b[38;5;124;43m\"\u001b[39;49m)\n",
      "\u001b[0;31mTypeError\u001b[0m: unsupported operand type(s) for +: 'int' and 'str'"
     ]
    }
   ],
   "source": [
    "#오류 발생\n",
    "#숫자 앞 뒤 , 로 연결해줘야함\n",
    "print(\"안녕 나는\" + \"파이썬이고\", 20 +\"세 입니다.\")"
   ]
  },
  {
   "cell_type": "code",
   "execution_count": null,
   "id": "9f072462",
   "metadata": {},
   "outputs": [],
   "source": [
    "#변수안에 자료가 들어가 있으니 + 말고 ,로 해줘야함\n",
    "print(\"안녕 나는\" + \"파이썬이고\", study ,\"세 입니다.\")"
   ]
  },
  {
   "cell_type": "markdown",
   "id": "ee37cd29",
   "metadata": {},
   "source": [
    "# print()의 % 인자"
   ]
  },
  {
   "cell_type": "code",
   "execution_count": 31,
   "id": "01e0fd34",
   "metadata": {},
   "outputs": [
    {
     "name": "stdout",
     "output_type": "stream",
     "text": [
      "학교: 한국대학교 과정: DSACM1 인원: 30  장소: 좋은캠퍼스\n"
     ]
    }
   ],
   "source": [
    "# print()함수 : 출력\n",
    "# 만든날짜 : 2023.07.03\n",
    "# 만든이 : 박준규\n",
    "\n",
    "# %s 문자 %d : 숫자\n",
    "\n",
    "print('학교: %s 과정: %s 인원: %d  장소: %s' %('한국대학교','DSACM1',30,'좋은캠퍼스'))  # %인자 ' , ' 없음"
   ]
  },
  {
   "cell_type": "code",
   "execution_count": 32,
   "id": "324679ec",
   "metadata": {},
   "outputs": [
    {
     "name": "stdout",
     "output_type": "stream",
     "text": [
      "100200300\n",
      "       100\n",
      "0000000100\n",
      "100       \n"
     ]
    }
   ],
   "source": [
    "print(\"%d%d%d\" %(100,200,300))\n",
    "\n",
    "#%10d 10의미 : 총 10자리 숫자를 만들어라. 10자리 중에 100을 오른쪽 정렬한다.\n",
    "print(\"%10d\" %(100))   \n",
    "\n",
    "# 앞에 0을 넣어 오른쪽 정렬\n",
    "print(\"%010d\" %(100)) \n",
    "\n",
    "#-는 왼쪽 정렬\n",
    "print(\"%-10d\" %(100))  "
   ]
  },
  {
   "cell_type": "code",
   "execution_count": 33,
   "id": "a0702b98",
   "metadata": {},
   "outputs": [
    {
     "name": "stdout",
     "output_type": "stream",
     "text": [
      "3.141560\n",
      "3.1\n",
      "3.14\n",
      "3.142\n"
     ]
    }
   ],
   "source": [
    "print(\"%f\" %(3.14156))    \n",
    "#1자리\n",
    "print(\"%.1f\" %(3.14156))\n",
    "#2자리\n",
    "print(\"%.2f\" %(3.14156))\n",
    "#3자리\n",
    "print(\"%.3f\" %(3.14156))"
   ]
  },
  {
   "cell_type": "markdown",
   "id": "a96f8e0f",
   "metadata": {},
   "source": [
    "# 논리값 "
   ]
  },
  {
   "cell_type": "code",
   "execution_count": 34,
   "id": "52271c18",
   "metadata": {},
   "outputs": [
    {
     "name": "stdout",
     "output_type": "stream",
     "text": [
      "False\n",
      "True\n"
     ]
    }
   ],
   "source": [
    "# 논리값 T, F 반듯이 대문자, 대소문자 구분\n",
    "# and -> \"&\", or -> \"|\"\n",
    "h = True  # True : 1 , False : 0\n",
    "k = False\n",
    "\n",
    "print(h & k)  # 둘 모두 참일때 True\n",
    "print(h | k)  # 둘 중 어느하나 참이면 True"
   ]
  },
  {
   "cell_type": "code",
   "execution_count": 35,
   "id": "c507201d",
   "metadata": {},
   "outputs": [
    {
     "data": {
      "text/plain": [
       "4"
      ]
     },
     "execution_count": 35,
     "metadata": {},
     "output_type": "execute_result"
    }
   ],
   "source": [
    "#h - True - 1\n",
    "#k - False - 0\n",
    "h + 3 + k"
   ]
  },
  {
   "cell_type": "code",
   "execution_count": 36,
   "id": "99c82aab",
   "metadata": {},
   "outputs": [
    {
     "name": "stdout",
     "output_type": "stream",
     "text": [
      "15\n"
     ]
    }
   ],
   "source": [
    "print(h+h+h+10+h+h)"
   ]
  },
  {
   "cell_type": "code",
   "execution_count": 37,
   "id": "f45d8179",
   "metadata": {},
   "outputs": [
    {
     "name": "stdout",
     "output_type": "stream",
     "text": [
      "4\n"
     ]
    }
   ],
   "source": [
    "#x=3 ,y=1\n",
    "print(x+y)"
   ]
  },
  {
   "cell_type": "markdown",
   "id": "82de8767",
   "metadata": {},
   "source": [
    "### ☞ 리스트(list)  -> [ ]\n",
    "- 여러 항목의 집합체로 각 항목의 타입은 서로 달라도 된다.\n",
    "- 리스트를 만들려면 대괄호 [      ]를 사용하고 각 항목을 ','로 구분한다\n",
    "- 자료 추가 삭제 변경 가능"
   ]
  },
  {
   "cell_type": "code",
   "execution_count": 38,
   "id": "2f8c87b0",
   "metadata": {},
   "outputs": [
    {
     "name": "stdout",
     "output_type": "stream",
     "text": [
      "[3, True, '박준규']\n"
     ]
    }
   ],
   "source": [
    "#변수에 대한 할당(배정)값 출력\n",
    "list_1=[x,y,z]\n",
    "print(list_1)"
   ]
  },
  {
   "cell_type": "code",
   "execution_count": 39,
   "id": "3adbb604",
   "metadata": {},
   "outputs": [
    {
     "name": "stdout",
     "output_type": "stream",
     "text": [
      "['x', 'y', 'z']\n"
     ]
    }
   ],
   "source": [
    "#''를 통해 문자열을 리스트안에 넣어줌\n",
    "list_2=['x','y','z']\n",
    "print(list_2)"
   ]
  },
  {
   "cell_type": "markdown",
   "id": "5a58ac8f",
   "metadata": {},
   "source": [
    "# len(): 항목의 갯수(문자열 길이)"
   ]
  },
  {
   "cell_type": "code",
   "execution_count": 40,
   "id": "04d16819",
   "metadata": {},
   "outputs": [
    {
     "name": "stdout",
     "output_type": "stream",
     "text": [
      "3\n"
     ]
    }
   ],
   "source": [
    "#항목의 갯수\n",
    "#M1 시험에 이제부터 나오나봄..?\n",
    "print(len(list_1))"
   ]
  },
  {
   "cell_type": "code",
   "execution_count": 41,
   "id": "20534ac4",
   "metadata": {},
   "outputs": [
    {
     "data": {
      "text/plain": [
       "5"
      ]
     },
     "execution_count": 41,
     "metadata": {},
     "output_type": "execute_result"
    }
   ],
   "source": [
    "#쥬피터노트북에서 파이썬의 형태를 그대로 쓸 수 있음\n",
    ">>> a=[1,2,3,4,5]\n",
    ">>> len(a)"
   ]
  },
  {
   "cell_type": "markdown",
   "id": "b5a1be9c",
   "metadata": {},
   "source": [
    "# in\n",
    "- 리스트 내에 어떤 항목이 들어 있는지 유무 확인"
   ]
  },
  {
   "cell_type": "code",
   "execution_count": 42,
   "id": "6bbc7ed7",
   "metadata": {},
   "outputs": [
    {
     "data": {
      "text/plain": [
       "[3, True, '박준규']"
      ]
     },
     "execution_count": 42,
     "metadata": {},
     "output_type": "execute_result"
    }
   ],
   "source": [
    "list_1"
   ]
  },
  {
   "cell_type": "code",
   "execution_count": 43,
   "id": "913f414d",
   "metadata": {},
   "outputs": [
    {
     "name": "stdout",
     "output_type": "stream",
     "text": [
      "True\n",
      "False\n"
     ]
    }
   ],
   "source": [
    "#in : 항목이 들어있는지의 유무 확인(True/False)\n",
    "print(3 in list_1)\n",
    "print(4 in list_1)"
   ]
  },
  {
   "cell_type": "code",
   "execution_count": 44,
   "id": "c42af336",
   "metadata": {},
   "outputs": [
    {
     "name": "stdout",
     "output_type": "stream",
     "text": [
      "False\n"
     ]
    }
   ],
   "source": [
    "#문자열로 되어있어서 없음\n",
    "print('3' in list_1) "
   ]
  },
  {
   "cell_type": "markdown",
   "id": "129e32ab",
   "metadata": {},
   "source": [
    "# 예제"
   ]
  },
  {
   "cell_type": "code",
   "execution_count": 45,
   "id": "8266845b",
   "metadata": {},
   "outputs": [
    {
     "data": {
      "text/plain": [
       "[1, 2, 100, '2', 4, 5, 'kim', 'lee']"
      ]
     },
     "execution_count": 45,
     "metadata": {},
     "output_type": "execute_result"
    }
   ],
   "source": [
    "#list 자료 \n",
    "exam=[1,2,100,'2',4,5,'kim','lee']\n",
    "exam"
   ]
  },
  {
   "cell_type": "code",
   "execution_count": 46,
   "id": "6d128023",
   "metadata": {},
   "outputs": [
    {
     "name": "stdout",
     "output_type": "stream",
     "text": [
      "8\n"
     ]
    }
   ],
   "source": [
    "#항목의 갯수\n",
    "print(len(exam))"
   ]
  },
  {
   "cell_type": "code",
   "execution_count": 47,
   "id": "fe23e55c",
   "metadata": {},
   "outputs": [
    {
     "name": "stdout",
     "output_type": "stream",
     "text": [
      "True\n",
      "True\n",
      "False\n",
      "False\n"
     ]
    }
   ],
   "source": [
    "#in 항목이 들어있는지의 유무\n",
    "print(4 in exam)\n",
    "print(5 in exam)\n",
    "print('4' in exam)\n",
    "print('5' in exam)"
   ]
  },
  {
   "cell_type": "markdown",
   "id": "20a2121b",
   "metadata": {},
   "source": [
    "###### M1 자격증 시험에 len이 잘 나오나봄"
   ]
  },
  {
   "cell_type": "code",
   "execution_count": 48,
   "id": "57b1e341",
   "metadata": {},
   "outputs": [
    {
     "name": "stdout",
     "output_type": "stream",
     "text": [
      "True\n",
      "False\n"
     ]
    }
   ],
   "source": [
    "# 대소문자 구분함\n",
    "print('kim' in exam)\n",
    "print('Kim' in exam)"
   ]
  },
  {
   "cell_type": "code",
   "execution_count": 49,
   "id": "ec8e0f23",
   "metadata": {},
   "outputs": [
    {
     "name": "stdout",
     "output_type": "stream",
     "text": [
      "True\n",
      "True\n"
     ]
    }
   ],
   "source": [
    "#숫자 문자형 구분 \n",
    "print(2 in exam)\n",
    "print('2' in exam)"
   ]
  },
  {
   "cell_type": "markdown",
   "id": "4d24247d",
   "metadata": {},
   "source": [
    "- 리스트 항목추가"
   ]
  },
  {
   "cell_type": "code",
   "execution_count": 50,
   "id": "2773f48e",
   "metadata": {},
   "outputs": [
    {
     "data": {
      "text/plain": [
       "[3, True, '박준규']"
      ]
     },
     "execution_count": 50,
     "metadata": {},
     "output_type": "execute_result"
    }
   ],
   "source": [
    "list_a=[3,True,'박준규']\n",
    "list_a"
   ]
  },
  {
   "cell_type": "code",
   "execution_count": 51,
   "id": "e5321af6",
   "metadata": {},
   "outputs": [],
   "source": [
    "#자료 항목 추가\n",
    "#변수명.append():리스트 내용(원본)이 바뀜\n",
    "list_a.append(100)"
   ]
  },
  {
   "cell_type": "code",
   "execution_count": 52,
   "id": "d5f969bd",
   "metadata": {},
   "outputs": [
    {
     "data": {
      "text/plain": [
       "[3, True, '박준규', 100]"
      ]
     },
     "execution_count": 52,
     "metadata": {},
     "output_type": "execute_result"
    }
   ],
   "source": [
    "#확인\n",
    "list_a"
   ]
  },
  {
   "cell_type": "markdown",
   "id": "73f60289",
   "metadata": {},
   "source": [
    "### ☞ 인덱스 번호\n",
    "- list=[1,2,'가','나','다']\n",
    "- 0번 인덱스 : 1\n",
    "- 2번 인덱스 : 가\n",
    "- 4번 인덱스 : 다\n",
    "- -1 인덱스 : 다"
   ]
  },
  {
   "cell_type": "markdown",
   "id": "8476d8fc",
   "metadata": {},
   "source": [
    "- 자료추가 -> 변수명.append(자료) 자료: 숫자(2), 문자('sdf'), 맨뒤애 실행 할때 마다 추가됨// 원본자료가 변경됨\n",
    "- 자료추가 -> 변수명.insert(인덱스,자료) : 인덱스 위치, 자료\n",
    "- 자료삭제 -> 변수명.remove(자료) : 삭제하고자 하는 값이 여러 개가 있다면, 첫 번째 값에 대해서만 삭제한다.\n",
    "- 자료삭제(인덱스) -> del 변수명[인덱스번호] -> [0]: 첫벉째~, 마지막 [-1]"
   ]
  },
  {
   "cell_type": "code",
   "execution_count": 53,
   "id": "4b7b351f",
   "metadata": {},
   "outputs": [
    {
     "data": {
      "text/plain": [
       "[1, 2, 100, 4, 5, 'kim', 'lee']"
      ]
     },
     "execution_count": 53,
     "metadata": {},
     "output_type": "execute_result"
    }
   ],
   "source": [
    "items=[1,2,100,4,5,'kim','lee']\n",
    "items"
   ]
  },
  {
   "cell_type": "code",
   "execution_count": 54,
   "id": "fbfe6f72",
   "metadata": {},
   "outputs": [
    {
     "data": {
      "text/plain": [
       "[1, 2, 100, 4, 5, 'kim', 'lee', 6]"
      ]
     },
     "execution_count": 54,
     "metadata": {},
     "output_type": "execute_result"
    }
   ],
   "source": [
    "#변수명.append(자료): 원본자료가 변경됨\n",
    "items.append(6) # list에서는 .add 불가 (set 자료형에 실행)\n",
    "items"
   ]
  },
  {
   "cell_type": "code",
   "execution_count": 55,
   "id": "1e41f28d",
   "metadata": {},
   "outputs": [
    {
     "data": {
      "text/plain": [
       "[1, 2, 100, 4, 5, 'kim', 'lee', 6, 'lee']"
      ]
     },
     "execution_count": 55,
     "metadata": {},
     "output_type": "execute_result"
    }
   ],
   "source": [
    "items.append('lee')\n",
    "items"
   ]
  },
  {
   "cell_type": "code",
   "execution_count": 56,
   "id": "afe7a130",
   "metadata": {},
   "outputs": [
    {
     "data": {
      "text/plain": [
       "[1, 2, 100, 4, 5, 6, 'kim', 'lee', 6, 'lee']"
      ]
     },
     "execution_count": 56,
     "metadata": {},
     "output_type": "execute_result"
    }
   ],
   "source": [
    "#변수명.insert(인덱스번호,자료)\n",
    "#5번째에 6을 추가\n",
    "items.insert(5,6) # 인덱스번호 위치에 자료 추가\n",
    "items"
   ]
  },
  {
   "cell_type": "code",
   "execution_count": 57,
   "id": "c35ddf78",
   "metadata": {},
   "outputs": [
    {
     "data": {
      "text/plain": [
       "[1, 2, 100, 4, 5, 6, 'kim', 'bark', 'lee', 6, 'lee']"
      ]
     },
     "execution_count": 57,
     "metadata": {},
     "output_type": "execute_result"
    }
   ],
   "source": [
    "items.insert(7,'bark')\n",
    "items"
   ]
  },
  {
   "cell_type": "code",
   "execution_count": 58,
   "id": "c1782225",
   "metadata": {},
   "outputs": [
    {
     "data": {
      "text/plain": [
       "[1, 2, 100, 4, 5, 'kim', 'bark', 'lee', 6, 'lee']"
      ]
     },
     "execution_count": 58,
     "metadata": {},
     "output_type": "execute_result"
    }
   ],
   "source": [
    "#변수명.remove(자료), 중복된 자료 삭제시 앞에있는 자료 삭제\n",
    "items.remove(6)\n",
    "items"
   ]
  },
  {
   "cell_type": "code",
   "execution_count": 59,
   "id": "39e9c8e5",
   "metadata": {},
   "outputs": [
    {
     "data": {
      "text/plain": [
       "[1, 2, 100, 4, 5, 'kim', 'bark', 6, 'lee']"
      ]
     },
     "execution_count": 59,
     "metadata": {},
     "output_type": "execute_result"
    }
   ],
   "source": [
    "#중복된 자료 삭제시 앞선자료 삭제\n",
    "items.remove('lee')\n",
    "items"
   ]
  },
  {
   "cell_type": "code",
   "execution_count": 60,
   "id": "fc4f38ce",
   "metadata": {},
   "outputs": [
    {
     "data": {
      "text/plain": [
       "[1, 2, 100, 5, 'kim', 'bark', 6, 'lee']"
      ]
     },
     "execution_count": 60,
     "metadata": {},
     "output_type": "execute_result"
    }
   ],
   "source": [
    "#인덱스 번호로 삭제(list) : \n",
    "#drop(): 행과 열을 삭제 \n",
    "del items[3]\n",
    "items"
   ]
  },
  {
   "cell_type": "markdown",
   "id": "c462d921",
   "metadata": {},
   "source": [
    "### ☞ 슬라이스(slice), 변수명[ : ] ,  [  :  : ] ,  변수명 [    :   ,    :     ]    -> [ 행 , 열 ]\n",
    " - \" : \"의 의미 : ~ 시작에서부터 : ~ n-1 까지 : step\n",
    " - step : 생략 가능(1)"
   ]
  },
  {
   "cell_type": "code",
   "execution_count": 61,
   "id": "da4c843b",
   "metadata": {},
   "outputs": [
    {
     "data": {
      "text/plain": [
       "[1, 2, 100, 4, 5, 'kim', 'lee']"
      ]
     },
     "execution_count": 61,
     "metadata": {},
     "output_type": "execute_result"
    }
   ],
   "source": [
    "items3=[1,2,100,4,5,'kim','lee']\n",
    "items3"
   ]
  },
  {
   "cell_type": "code",
   "execution_count": 62,
   "id": "324108ec",
   "metadata": {},
   "outputs": [
    {
     "data": {
      "text/plain": [
       "[1, 2, 100]"
      ]
     },
     "execution_count": 62,
     "metadata": {},
     "output_type": "execute_result"
    }
   ],
   "source": [
    "#앞에부터 뒤 -1 까지 뽑아옴\n",
    "items3[0:3]"
   ]
  },
  {
   "cell_type": "code",
   "execution_count": 63,
   "id": "25c1918e",
   "metadata": {},
   "outputs": [
    {
     "data": {
      "text/plain": [
       "[1, 100, 5]"
      ]
     },
     "execution_count": 63,
     "metadata": {},
     "output_type": "execute_result"
    }
   ],
   "source": [
    "#0 ~ 4 까지 0 1 3 뽑아옴 / 2step 슬라이스\n",
    "items3[0:5:2]"
   ]
  },
  {
   "cell_type": "code",
   "execution_count": 64,
   "id": "673cc761",
   "metadata": {},
   "outputs": [
    {
     "data": {
      "text/plain": [
       "[1, 2]"
      ]
     },
     "execution_count": 64,
     "metadata": {},
     "output_type": "execute_result"
    }
   ],
   "source": [
    "#앞에 0인 경우 생략 가능 \n",
    "items3[:2]"
   ]
  },
  {
   "cell_type": "code",
   "execution_count": 65,
   "id": "82292333",
   "metadata": {},
   "outputs": [
    {
     "data": {
      "text/plain": [
       "[100]"
      ]
     },
     "execution_count": 65,
     "metadata": {},
     "output_type": "execute_result"
    }
   ],
   "source": [
    "items3[2:3]"
   ]
  },
  {
   "cell_type": "code",
   "execution_count": 66,
   "id": "0f148498",
   "metadata": {},
   "outputs": [
    {
     "data": {
      "text/plain": [
       "[1, 2, 100]"
      ]
     },
     "execution_count": 66,
     "metadata": {},
     "output_type": "execute_result"
    }
   ],
   "source": [
    "items3[:3]"
   ]
  },
  {
   "cell_type": "code",
   "execution_count": 67,
   "id": "7987de7b",
   "metadata": {},
   "outputs": [
    {
     "data": {
      "text/plain": [
       "[100, 4, 5, 'kim', 'lee']"
      ]
     },
     "execution_count": 67,
     "metadata": {},
     "output_type": "execute_result"
    }
   ],
   "source": [
    "items3[2:]"
   ]
  },
  {
   "cell_type": "code",
   "execution_count": 68,
   "id": "e73b10de",
   "metadata": {},
   "outputs": [],
   "source": [
    "#뒤에서 부터 인덱싱할 때는 '-'마이너스 부호를 사용한다."
   ]
  },
  {
   "cell_type": "code",
   "execution_count": 69,
   "id": "1fb69677",
   "metadata": {},
   "outputs": [
    {
     "data": {
      "text/plain": [
       "'lee'"
      ]
     },
     "execution_count": 69,
     "metadata": {},
     "output_type": "execute_result"
    }
   ],
   "source": [
    "items3[-1]"
   ]
  },
  {
   "cell_type": "code",
   "execution_count": 70,
   "id": "606d0932",
   "metadata": {},
   "outputs": [
    {
     "data": {
      "text/plain": [
       "5"
      ]
     },
     "execution_count": 70,
     "metadata": {},
     "output_type": "execute_result"
    }
   ],
   "source": [
    "items3[-3]"
   ]
  },
  {
   "cell_type": "code",
   "execution_count": 71,
   "id": "fd4c0b3a",
   "metadata": {},
   "outputs": [
    {
     "data": {
      "text/plain": [
       "[100, 4, 5, 'kim']"
      ]
     },
     "execution_count": 71,
     "metadata": {},
     "output_type": "execute_result"
    }
   ],
   "source": [
    "#2부터 -2 인덱스 까지 그래서 lee 말고 kim부터임\n",
    "items3[2:-1]"
   ]
  },
  {
   "cell_type": "code",
   "execution_count": 72,
   "id": "7591b90f",
   "metadata": {},
   "outputs": [
    {
     "data": {
      "text/plain": [
       "[4, 5]"
      ]
     },
     "execution_count": 72,
     "metadata": {},
     "output_type": "execute_result"
    }
   ],
   "source": [
    "items3[3:-2]"
   ]
  },
  {
   "cell_type": "code",
   "execution_count": 73,
   "id": "ee7c9859",
   "metadata": {},
   "outputs": [
    {
     "data": {
      "text/plain": [
       "[1, 100, 5, 'lee']"
      ]
     },
     "execution_count": 73,
     "metadata": {},
     "output_type": "execute_result"
    }
   ],
   "source": [
    "#처음부터 끝까지 2steps\n",
    "items3[ : :2]"
   ]
  },
  {
   "cell_type": "code",
   "execution_count": 74,
   "id": "945561ec",
   "metadata": {},
   "outputs": [
    {
     "data": {
      "text/plain": [
       "[2, 4]"
      ]
     },
     "execution_count": 74,
     "metadata": {},
     "output_type": "execute_result"
    }
   ],
   "source": [
    "#1부터 -3까지 2steps\n",
    "items3[1:-2:2]"
   ]
  },
  {
   "cell_type": "markdown",
   "id": "f59e679c",
   "metadata": {},
   "source": [
    "### ☞ range() -> range(1,10,2)\n",
    "- range(start,stop,[step])\n",
    "- start : 시작 생략가능(생략 0번) 번호,\n",
    "- stop-1까지 : 종료 번호의 자료,\n",
    "- step : 생략가능 : 기본 1, -1(감소"
   ]
  },
  {
   "cell_type": "code",
   "execution_count": 154,
   "id": "8be99213",
   "metadata": {},
   "outputs": [
    {
     "data": {
      "text/plain": [
       "range(0, 10)"
      ]
     },
     "execution_count": 154,
     "metadata": {},
     "output_type": "execute_result"
    }
   ],
   "source": [
    "x1=range(10)\n",
    "x1"
   ]
  },
  {
   "cell_type": "code",
   "execution_count": 155,
   "id": "54151ff0",
   "metadata": {},
   "outputs": [
    {
     "data": {
      "text/plain": [
       "[0, 1, 2, 3, 4, 5, 6, 7, 8, 9]"
      ]
     },
     "execution_count": 155,
     "metadata": {},
     "output_type": "execute_result"
    }
   ],
   "source": [
    "#range자료를 -> list로 변환 \n",
    "x2=list(range(10))\n",
    "x2"
   ]
  },
  {
   "cell_type": "code",
   "execution_count": 156,
   "id": "1685a73d",
   "metadata": {},
   "outputs": [
    {
     "data": {
      "text/plain": [
       "range(10, 20, 2)"
      ]
     },
     "execution_count": 156,
     "metadata": {},
     "output_type": "execute_result"
    }
   ],
   "source": [
    "x3=range(10,20,2)\n",
    "x3"
   ]
  },
  {
   "cell_type": "code",
   "execution_count": 78,
   "id": "a7b28796",
   "metadata": {},
   "outputs": [
    {
     "data": {
      "text/plain": [
       "[10, 12, 14, 16, 18]"
      ]
     },
     "execution_count": 78,
     "metadata": {},
     "output_type": "execute_result"
    }
   ],
   "source": [
    "#초기값과 간격을 임의로 설정\n",
    "x3=list(range(10,20,2))\n",
    "x3"
   ]
  },
  {
   "cell_type": "code",
   "execution_count": 79,
   "id": "8b54fea9",
   "metadata": {},
   "outputs": [
    {
     "name": "stdout",
     "output_type": "stream",
     "text": [
      "10\n",
      "12\n",
      "14\n",
      "16\n",
      "18\n"
     ]
    }
   ],
   "source": [
    "#들여쓰기(indent)-P.64\n",
    "#x3에 있는 값을 i에 넣고 반복해서 출력해라.\n",
    "\n",
    "for i in x3: # 반드시 : 필요 , 들여쓰기\n",
    "    print(i) #결과 출력"
   ]
  },
  {
   "cell_type": "code",
   "execution_count": 80,
   "id": "53a56cfa",
   "metadata": {},
   "outputs": [
    {
     "name": "stdout",
     "output_type": "stream",
     "text": [
      "10\n",
      "12\n",
      "14\n",
      "18\n",
      "16\n"
     ]
    }
   ],
   "source": [
    "# 특정 인덱스 위치 의 값을 얻는 방법\n",
    "\n",
    "print(x3[0]) # [0] 인덱스 위치 값 10\n",
    "print(x3[1]) # [1] 인덱스 위치 값 12\n",
    "print(x3[2]) # [2] 인덱스 위치 값 14\n",
    "print(x3[-1]) # [-1] 인덱스 위치 값 18\n",
    "print(x3[-2]) # [-2] 인덱스 위치 값 16"
   ]
  },
  {
   "cell_type": "code",
   "execution_count": 81,
   "id": "4dad3d1c",
   "metadata": {},
   "outputs": [
    {
     "name": "stdout",
     "output_type": "stream",
     "text": [
      "10\n",
      "30\n",
      "50\n",
      "70\n",
      "90\n",
      "110\n",
      "130\n",
      "150\n",
      "170\n",
      "190\n"
     ]
    }
   ],
   "source": [
    "x=range(1,20,2)\n",
    "\n",
    "for i in x:\n",
    "    print(i*10)"
   ]
  },
  {
   "cell_type": "markdown",
   "id": "042b40c9",
   "metadata": {},
   "source": [
    "# 리스트 내부 for"
   ]
  },
  {
   "cell_type": "code",
   "execution_count": 82,
   "id": "be232b9a",
   "metadata": {
    "scrolled": true
   },
   "outputs": [
    {
     "name": "stdout",
     "output_type": "stream",
     "text": [
      "[0, 10, 20, 30, 40]\n"
     ]
    }
   ],
   "source": [
    "#리스트 내부 for\n",
    "list_2=[x*10 for x in range(5)]\n",
    "print(list_2)"
   ]
  },
  {
   "cell_type": "markdown",
   "id": "a95be175",
   "metadata": {},
   "source": [
    "#인덱스 , 슬라이스 빅 중요 라고 하심 \n",
    "#range - 자료생성\n",
    "#인덱스 슬라이싱 자료추출 \n",
    "\n",
    "#슬라이스/ range 빅 하이라이트"
   ]
  },
  {
   "cell_type": "markdown",
   "id": "715a4e0f",
   "metadata": {},
   "source": [
    "# 튜플(tuple)\n",
    "- 튜플은 리스트처럼 여러 항목의 집합을 담을 수 있는데 리스트와 달리 튜플의 내용은 '상수'로 취급되어 값을 바꿀 수 없다.\n",
    "- 튜플을 만들려면 소괄호()를 사용, 소괄호()생략 가능. \",\"로 구분하여 나열한다."
   ]
  },
  {
   "cell_type": "code",
   "execution_count": 83,
   "id": "cb89d96c",
   "metadata": {},
   "outputs": [
    {
     "name": "stdout",
     "output_type": "stream",
     "text": [
      "(1, 2, 3)\n"
     ]
    }
   ],
   "source": [
    "t1=(1,2,3)\n",
    "print(t1)"
   ]
  },
  {
   "cell_type": "code",
   "execution_count": 84,
   "id": "306e155b",
   "metadata": {},
   "outputs": [
    {
     "name": "stdout",
     "output_type": "stream",
     "text": [
      "(4, 5, 6)\n"
     ]
    }
   ],
   "source": [
    "t2=(4,5,6)\n",
    "print(t2)"
   ]
  },
  {
   "cell_type": "code",
   "execution_count": 87,
   "id": "a352b1bb",
   "metadata": {},
   "outputs": [
    {
     "name": "stdout",
     "output_type": "stream",
     "text": [
      "(1, 2, 3, 4, 5, 'hello')\n"
     ]
    }
   ],
   "source": [
    "my_tuple=(1,2,3)\n",
    "your_tuple=4,5,'hello'\n",
    "print(my_tuple+your_tuple)"
   ]
  },
  {
   "cell_type": "code",
   "execution_count": 88,
   "id": "2b1eb4e6",
   "metadata": {},
   "outputs": [
    {
     "ename": "AttributeError",
     "evalue": "'tuple' object has no attribute 'append'",
     "output_type": "error",
     "traceback": [
      "\u001b[0;31m---------------------------------------------------------------------------\u001b[0m",
      "\u001b[0;31mAttributeError\u001b[0m                            Traceback (most recent call last)",
      "Cell \u001b[0;32mIn[88], line 2\u001b[0m\n\u001b[1;32m      1\u001b[0m \u001b[38;5;66;03m#tuple은 자료값을 바꿀 수 없다.\u001b[39;00m\n\u001b[0;32m----> 2\u001b[0m \u001b[43mmy_tuple\u001b[49m\u001b[38;5;241;43m.\u001b[39;49m\u001b[43mappend\u001b[49m(\u001b[38;5;241m4\u001b[39m)\n",
      "\u001b[0;31mAttributeError\u001b[0m: 'tuple' object has no attribute 'append'"
     ]
    }
   ],
   "source": [
    "#tuple은 자료값을 바꿀 수 없다.\n",
    "my_tuple.append(4)"
   ]
  },
  {
   "cell_type": "markdown",
   "id": "3eb7b85c",
   "metadata": {},
   "source": [
    "# 사전(dictionary):dict-> 컨테이너 형 데이터 자료\n",
    "- 딕셔너리로 키(key) : 값(value) 조합 형태의 쌍을 이루어 구성.\n",
    "- 딕셔너리에서는 항목을 찾을 때 키를 사용한다 -> \"키\"에 대응되는 \"값\"이 출력\n",
    "- 딕셔너너리에서 저장된 순서는 중요시하지 않는다.\n",
    "- 딕셔너리는 중괄호 { 키:값, : , : , } 로 만든다."
   ]
  },
  {
   "cell_type": "code",
   "execution_count": 90,
   "id": "eeace91c",
   "metadata": {},
   "outputs": [
    {
     "data": {
      "text/plain": [
       "25"
      ]
     },
     "execution_count": 90,
     "metadata": {},
     "output_type": "execute_result"
    }
   ],
   "source": [
    "# 키에 대한 값이 출력\n",
    "name_age = {\"kim\": 20, \"lee\": 25}\n",
    "\n",
    "name_age['kim']\n",
    "name_age['lee']"
   ]
  },
  {
   "cell_type": "code",
   "execution_count": 92,
   "id": "78e7e75e",
   "metadata": {},
   "outputs": [
    {
     "name": "stdout",
     "output_type": "stream",
     "text": [
      "20\n",
      "25\n"
     ]
    }
   ],
   "source": [
    "print(name_age['kim'])\n",
    "print(name_age['lee'])"
   ]
  },
  {
   "cell_type": "code",
   "execution_count": 93,
   "id": "da9384ee",
   "metadata": {},
   "outputs": [
    {
     "name": "stdout",
     "output_type": "stream",
     "text": [
      "True\n",
      "False\n"
     ]
    }
   ],
   "source": [
    "# in으로 키 항목 존재 유무 학인\n",
    "print(\"kim\" in name_age) # True\n",
    "print(\"park\" in name_age) # False"
   ]
  },
  {
   "cell_type": "code",
   "execution_count": 94,
   "id": "19d15e6b",
   "metadata": {},
   "outputs": [
    {
     "data": {
      "text/plain": [
       "{'kim': 20, 'lee': 25}"
      ]
     },
     "execution_count": 94,
     "metadata": {},
     "output_type": "execute_result"
    }
   ],
   "source": [
    "name_age"
   ]
  },
  {
   "cell_type": "code",
   "execution_count": 95,
   "id": "20e1fafb",
   "metadata": {},
   "outputs": [
    {
     "name": "stdout",
     "output_type": "stream",
     "text": [
      "{'kim': 20, 'lee': 25, 'song': 35}\n"
     ]
    }
   ],
   "source": [
    "#딕셔너리 key:value 값 추가하기.\n",
    "name_age[\"song\"]=35\n",
    "print(name_age)"
   ]
  },
  {
   "cell_type": "markdown",
   "id": "2a97a644",
   "metadata": {},
   "source": [
    "- set{} 자료형"
   ]
  },
  {
   "cell_type": "code",
   "execution_count": 96,
   "id": "49c2b1a4",
   "metadata": {},
   "outputs": [
    {
     "name": "stdout",
     "output_type": "stream",
     "text": [
      "{1, 2, 3, 4, 5, 6}\n",
      "[1, 2, 3, 4, 5, 6]\n",
      "[1, 3, 2, 2, 3, 3, 4, 5, 6, 5]\n"
     ]
    }
   ],
   "source": [
    "#set = 집합 / 중복된 걸 제거하고 나타냄 \n",
    "#set{} 자료형 : 중복 불허\n",
    "numbers = [1, 3, 2, 2, 3, 3, 4, 5, 6, 5]  # <-list 자료\n",
    "\n",
    "kk = set(numbers)   # set( ) 자료 변환 : 중복 불허\n",
    "\n",
    "print(kk) # set 자료 출력 {}\n",
    "print(list(kk))  # set 자료 -> list 자료 변환 출력\n",
    "print(numbers)"
   ]
  },
  {
   "cell_type": "markdown",
   "id": "9fe91f11",
   "metadata": {},
   "source": [
    "# 예제\n"
   ]
  },
  {
   "cell_type": "code",
   "execution_count": 97,
   "id": "3084ce8c",
   "metadata": {},
   "outputs": [
    {
     "data": {
      "text/plain": [
       "{'과일': 'Apple', '지역': '청송', '금액': 5000}"
      ]
     },
     "execution_count": 97,
     "metadata": {},
     "output_type": "execute_result"
    }
   ],
   "source": [
    "# dict 자료\n",
    "food = {'과일': 'Apple','지역': '청송','금액': 5000}  \n",
    "food"
   ]
  },
  {
   "cell_type": "code",
   "execution_count": 99,
   "id": "cb9f9cc4",
   "metadata": {},
   "outputs": [
    {
     "name": "stdout",
     "output_type": "stream",
     "text": [
      "Apple\n"
     ]
    }
   ],
   "source": [
    "#키에 대한 값 출력\n",
    "print(food['과일'])"
   ]
  },
  {
   "cell_type": "code",
   "execution_count": 100,
   "id": "885def7d",
   "metadata": {},
   "outputs": [
    {
     "name": "stdout",
     "output_type": "stream",
     "text": [
      "청송\n"
     ]
    }
   ],
   "source": [
    "print(food['지역'])"
   ]
  },
  {
   "cell_type": "code",
   "execution_count": 101,
   "id": "cfdc0ac0",
   "metadata": {},
   "outputs": [
    {
     "name": "stdout",
     "output_type": "stream",
     "text": [
      "5000\n"
     ]
    }
   ],
   "source": [
    "print(food['금액'])"
   ]
  },
  {
   "cell_type": "markdown",
   "id": "620d40c5",
   "metadata": {},
   "source": [
    "## if - else"
   ]
  },
  {
   "cell_type": "code",
   "execution_count": 104,
   "id": "70db8436",
   "metadata": {},
   "outputs": [
    {
     "name": "stdout",
     "output_type": "stream",
     "text": [
      "x<=3\n"
     ]
    }
   ],
   "source": [
    "x = 3\n",
    "\n",
    "if x > 10:\n",
    "    print(\"x>10\")\n",
    "\n",
    "elif x>3 :\n",
    "    print('10>= x<3')\n",
    "\n",
    "else:\n",
    "    print('x<=3')"
   ]
  },
  {
   "cell_type": "markdown",
   "id": "80285fd6",
   "metadata": {},
   "source": [
    "## if ~ else 의 %(나머지 값) 연산자"
   ]
  },
  {
   "cell_type": "code",
   "execution_count": 105,
   "id": "f8c81a03",
   "metadata": {},
   "outputs": [
    {
     "name": "stdout",
     "output_type": "stream",
     "text": [
      "Yes\n"
     ]
    }
   ],
   "source": [
    "num = 7\n",
    "\n",
    "if num % 2 !=0:  #나머지가 0이 아니면(!=0) 조건 생략가능 : == 같다 , != 서로 다르다의 의미\n",
    "    print('Yes')\n",
    "else: \n",
    "    print('No')"
   ]
  },
  {
   "cell_type": "code",
   "execution_count": 106,
   "id": "ff91859a",
   "metadata": {},
   "outputs": [
    {
     "name": "stdout",
     "output_type": "stream",
     "text": [
      "Yes\n"
     ]
    }
   ],
   "source": [
    "#나머지 함수여서 나머지가 나오면 True.\n",
    "num = 7\n",
    "\n",
    "if num % 2:  #나머지가 0이 아니면(!=0) 조건 생략가능 : == 같다 , != 서로 다르다의 의미\n",
    "    print('Yes')\n",
    "else: \n",
    "    print('No')"
   ]
  },
  {
   "cell_type": "code",
   "execution_count": 109,
   "id": "b78e7ba6",
   "metadata": {},
   "outputs": [
    {
     "name": "stdout",
     "output_type": "stream",
     "text": [
      "참\n"
     ]
    }
   ],
   "source": [
    "jumsu=9\n",
    "\n",
    "if jumsu%2 :\n",
    "    print('참')\n",
    "else:\n",
    "    print('거짓')"
   ]
  },
  {
   "cell_type": "markdown",
   "id": "77a9ebc7",
   "metadata": {},
   "source": [
    "##### input(): 키보드 입력함수"
   ]
  },
  {
   "cell_type": "code",
   "execution_count": 113,
   "id": "65884974",
   "metadata": {},
   "outputs": [
    {
     "name": "stdout",
     "output_type": "stream",
     "text": [
      "점수를 입력하세요 : 88\n"
     ]
    }
   ],
   "source": [
    "#성적처리\n",
    "jumsu = int(input(\"점수를 입력하세요 : \"))"
   ]
  },
  {
   "cell_type": "code",
   "execution_count": 114,
   "id": "d9ba3620",
   "metadata": {},
   "outputs": [
    {
     "name": "stdout",
     "output_type": "stream",
     "text": [
      "성적은 88 점 학점은: B\n"
     ]
    }
   ],
   "source": [
    "if jumsu >= 90 :\n",
    "    print(\"성적은\", jumsu ,\"점\", \"학점은: A\") \n",
    "\n",
    "elif jumsu >= 80 :\n",
    "    print(\"성적은\", jumsu ,\"점\", \"학점은: B\") \n",
    "\n",
    "elif jumsu >= 70 :\n",
    "    print(\"성적은\", jumsu ,\"점\", \"학점은: C\") \n",
    "\n",
    "elif jumsu >= 60 :\n",
    "    print(\"성적은\", jumsu ,\"점\", \"학점은: D\") \n",
    "\n",
    "else:\n",
    "    print(\"성적은\",jumsu ,\"점\",\" 내년에 F \")"
   ]
  },
  {
   "cell_type": "markdown",
   "id": "5352f5ee",
   "metadata": {},
   "source": [
    "### for\n",
    "\n",
    "- 동작을 반복할 때 for 를 사용한다\n",
    "- for 문장의 끝에는 ':'가 있어야 하며 for 문이 적용되는 블록(block)은 반드시 들여쓰기 (indentation)을 해야 한다."
   ]
  },
  {
   "cell_type": "code",
   "execution_count": 118,
   "id": "a5d0442f",
   "metadata": {},
   "outputs": [
    {
     "name": "stdout",
     "output_type": "stream",
     "text": [
      "1 's square = 1\n",
      "3 's square = 9\n",
      "5 's square = 25\n",
      "10 's square = 100\n"
     ]
    }
   ],
   "source": [
    "for x in (1,3,5,10): # 소괄호 튜플 \n",
    "    print(x,\"'s square =\", x*x)"
   ]
  },
  {
   "cell_type": "code",
   "execution_count": 119,
   "id": "3b93704d",
   "metadata": {},
   "outputs": [
    {
     "name": "stdout",
     "output_type": "stream",
     "text": [
      "1.0\n",
      "3.0\n",
      "6.0\n",
      "10.0\n"
     ]
    }
   ],
   "source": [
    "num =[2,4,6,8] #대괄호 리스트 \n",
    "\n",
    "result=0\n",
    "\n",
    "for i in num : \n",
    "    result = result + i/2\n",
    "    print(result)"
   ]
  },
  {
   "cell_type": "code",
   "execution_count": 120,
   "id": "50f80227",
   "metadata": {},
   "outputs": [
    {
     "name": "stdout",
     "output_type": "stream",
     "text": [
      "10.0\n"
     ]
    }
   ],
   "source": [
    "num =[2,4,6,8] #대괄호 리스트 \n",
    "\n",
    "result=0\n",
    "\n",
    "for i in num : \n",
    "    result = result + i/2\n",
    "\n",
    "print(result)"
   ]
  },
  {
   "cell_type": "code",
   "execution_count": 121,
   "id": "191cd439",
   "metadata": {},
   "outputs": [
    {
     "name": "stdout",
     "output_type": "stream",
     "text": [
      "0.5\n",
      "2.0\n",
      "4.5\n",
      "8.0\n",
      "최종 결과 = 8.0\n"
     ]
    }
   ],
   "source": [
    "num2 = [1,3,5,7]\n",
    "result2 = 0\n",
    "\n",
    "for i in num2 : \n",
    "    result2 = result2 + i/2\n",
    "    print(result2)\n",
    "\n",
    "print('최종 결과 =', result2)"
   ]
  },
  {
   "cell_type": "markdown",
   "id": "cd9cd32f",
   "metadata": {},
   "source": [
    "### 내장함수 \n",
    "- len() : 항목의 갯수(문자열 길이)\n",
    "- max() : ASCII코드값이 가장 큰 문자 -> 소문자 > 대문자 > 스페이스 순\n",
    "- min() : ASCII코드값이 가장 작은 문자\n",
    "- sum() : 합계, 문자열에는 적용 불가\n",
    "- sort() : 크기 순서 정렬, 원본 리스트 변경되어 저장됨\n",
    "- sorted() : 문자열 ASCII코드값으로 정렬 결과를 리스트로 반환-원본 수정변경 없다\n",
    "- reversed() : 문자열을 역순으로 바꿉니다, 반드시 리스트 함수를 적용해야함"
   ]
  },
  {
   "cell_type": "code",
   "execution_count": 122,
   "id": "0a5ead8e",
   "metadata": {},
   "outputs": [
    {
     "name": "stdout",
     "output_type": "stream",
     "text": [
      "Python\n",
      "computer\n",
      "qwer\n",
      "[2, 6, 9, 3, 7]\n"
     ]
    }
   ],
   "source": [
    "a = 'Python'\n",
    "b = 'computer'\n",
    "c = 'qwer'\n",
    "d = [2,6,9,3,7]\n",
    "\n",
    "print(a)\n",
    "print(b)\n",
    "print(c)\n",
    "print(d)"
   ]
  },
  {
   "cell_type": "markdown",
   "id": "756923e2",
   "metadata": {},
   "source": [
    "### len(): 문자열 길이 (항목 갯수)"
   ]
  },
  {
   "cell_type": "code",
   "execution_count": 123,
   "id": "95d2d1c4",
   "metadata": {},
   "outputs": [
    {
     "name": "stdout",
     "output_type": "stream",
     "text": [
      "6\n",
      "8\n",
      "4\n",
      "5\n"
     ]
    }
   ],
   "source": [
    "# len()  문자열 길이(항목 갯수)\n",
    "\n",
    "print(len(a))\n",
    "print(len(b))\n",
    "print(len(c))\n",
    "print(len(d))"
   ]
  },
  {
   "cell_type": "markdown",
   "id": "6186dcb6",
   "metadata": {},
   "source": [
    "### sort()"
   ]
  },
  {
   "cell_type": "code",
   "execution_count": 124,
   "id": "f85be147",
   "metadata": {},
   "outputs": [
    {
     "name": "stdout",
     "output_type": "stream",
     "text": [
      "[1, 2, 3, 4, 5]\n"
     ]
    }
   ],
   "source": [
    "#변수명.sort() 오름차순 기본 정렬 \n",
    "\n",
    "x=[2,1,3,5,4]\n",
    "x.sort()\n",
    "\n",
    "print(x)"
   ]
  },
  {
   "cell_type": "code",
   "execution_count": 125,
   "id": "e9d0dea1",
   "metadata": {},
   "outputs": [
    {
     "name": "stdout",
     "output_type": "stream",
     "text": [
      "[5, 4, 3, 2, 1]\n"
     ]
    }
   ],
   "source": [
    "# 내림차순 정렬\n",
    "\n",
    "x=[2,1,3,5,4]\n",
    "x.sort(reverse = True)\n",
    "\n",
    "print(x)"
   ]
  },
  {
   "cell_type": "code",
   "execution_count": 126,
   "id": "21ca0cad",
   "metadata": {},
   "outputs": [
    {
     "name": "stdout",
     "output_type": "stream",
     "text": [
      "[2, 1, 3, 5, 4]\n",
      "[1, 2, 3, 4, 5]\n"
     ]
    }
   ],
   "source": [
    "#변수명.sort() 오름차순 기본 정렬 \n",
    "#sorted(변수명) 오름차순 기본 정렬 , 정렬 후 리스트 원본 수정변경 없는 정렬된 자료 요구시 새로운 변수에 저장 \n",
    "x=[2,1,3,5,4]\n",
    "y=sorted(x)\n",
    "\n",
    "\n",
    "print(x)\n",
    "print(y)"
   ]
  },
  {
   "cell_type": "markdown",
   "id": "aaacc9ca",
   "metadata": {},
   "source": [
    "### 모듈 설치 P68\n",
    "- pip install : 모듈 설치\n",
    "- import : 설치된 모듈 불러오기\n",
    "- import matplotlib.pyplot as plt : plt 약자로 사용\n",
    "- as : alias(별칭, 별명, 통칭)"
   ]
  },
  {
   "cell_type": "markdown",
   "id": "3c00a13e",
   "metadata": {},
   "source": [
    "### 함수 정의"
   ]
  },
  {
   "cell_type": "code",
   "execution_count": 131,
   "id": "66e042ed",
   "metadata": {},
   "outputs": [],
   "source": [
    "def double(x):\n",
    "    return x*2"
   ]
  },
  {
   "cell_type": "code",
   "execution_count": 132,
   "id": "27d43922",
   "metadata": {},
   "outputs": [
    {
     "data": {
      "text/plain": [
       "10"
      ]
     },
     "execution_count": 132,
     "metadata": {},
     "output_type": "execute_result"
    }
   ],
   "source": [
    "double(5)"
   ]
  },
  {
   "cell_type": "code",
   "execution_count": 133,
   "id": "a93f3264",
   "metadata": {},
   "outputs": [
    {
     "data": {
      "text/plain": [
       "20"
      ]
     },
     "execution_count": 133,
     "metadata": {},
     "output_type": "execute_result"
    }
   ],
   "source": [
    "double(10)"
   ]
  },
  {
   "cell_type": "code",
   "execution_count": 135,
   "id": "7dfa9b12",
   "metadata": {},
   "outputs": [
    {
     "data": {
      "text/plain": [
       "200"
      ]
     },
     "execution_count": 135,
     "metadata": {},
     "output_type": "execute_result"
    }
   ],
   "source": [
    "def double(x=100):\n",
    "    return x *2\n",
    "\n",
    "double()"
   ]
  },
  {
   "cell_type": "code",
   "execution_count": 136,
   "id": "f1efb80a",
   "metadata": {},
   "outputs": [
    {
     "name": "stdout",
     "output_type": "stream",
     "text": [
      "8 12\n"
     ]
    }
   ],
   "source": [
    "def double_triple(x):\n",
    "    return x*2, x*3\n",
    "\n",
    "x,y = double_triple(4)\n",
    "print(x,y)"
   ]
  },
  {
   "cell_type": "code",
   "execution_count": 137,
   "id": "a8d44998",
   "metadata": {},
   "outputs": [],
   "source": [
    "# 사칙연산 라이브러리\n",
    "# sam_lib_cal.py\n",
    "\n",
    "def add(a,b) :\n",
    "  k = a + b\n",
    "  return k\n",
    "  \n",
    "def sub(a,b) :\n",
    "  k = a - b\n",
    "  return k\n",
    "\n",
    "def mul(a,b) :\n",
    "  k = a * b\n",
    "  return k\n",
    "\n",
    "def div(a,b) :\n",
    "  k = a / b\n",
    "  return k"
   ]
  },
  {
   "cell_type": "code",
   "execution_count": 138,
   "id": "97e30092",
   "metadata": {},
   "outputs": [
    {
     "data": {
      "text/plain": [
       "5"
      ]
     },
     "execution_count": 138,
     "metadata": {},
     "output_type": "execute_result"
    }
   ],
   "source": [
    "add(2,3)"
   ]
  },
  {
   "cell_type": "code",
   "execution_count": 139,
   "id": "627cd2ba",
   "metadata": {},
   "outputs": [
    {
     "data": {
      "text/plain": [
       "-1"
      ]
     },
     "execution_count": 139,
     "metadata": {},
     "output_type": "execute_result"
    }
   ],
   "source": [
    "sub(2,3)"
   ]
  },
  {
   "cell_type": "code",
   "execution_count": 140,
   "id": "ba0544e2",
   "metadata": {},
   "outputs": [
    {
     "data": {
      "text/plain": [
       "6"
      ]
     },
     "execution_count": 140,
     "metadata": {},
     "output_type": "execute_result"
    }
   ],
   "source": [
    "mul(2,3)"
   ]
  },
  {
   "cell_type": "code",
   "execution_count": 141,
   "id": "924e8e17",
   "metadata": {},
   "outputs": [
    {
     "data": {
      "text/plain": [
       "0.6666666666666666"
      ]
     },
     "execution_count": 141,
     "metadata": {},
     "output_type": "execute_result"
    }
   ],
   "source": [
    "div(2,3)"
   ]
  },
  {
   "cell_type": "code",
   "execution_count": 144,
   "id": "c20ab6a5",
   "metadata": {},
   "outputs": [],
   "source": [
    "# 짝수 출력 함수(1)\n",
    "def evenNumbers(x):\n",
    "    vec = []\n",
    "    for i in x:\n",
    "        if i % 2 == 0:\n",
    "            vec = vec + [i] # 추가\n",
    "    return vec"
   ]
  },
  {
   "cell_type": "code",
   "execution_count": 148,
   "id": "bdf79800",
   "metadata": {},
   "outputs": [
    {
     "name": "stdout",
     "output_type": "stream",
     "text": [
      "[2, 4, 6]\n"
     ]
    }
   ],
   "source": [
    "x=[1,2,3,4,5,6]\n",
    "print(evenNumbers(x))"
   ]
  },
  {
   "cell_type": "code",
   "execution_count": 149,
   "id": "b5f1aebb",
   "metadata": {},
   "outputs": [],
   "source": [
    "# 짝수 출력 함수(2)\n",
    "def evenNumbers(x):\n",
    "    vec = []\n",
    "    for i in x:\n",
    "        if i % 2 == 0:\n",
    "            vec.append(i) # 추가\n",
    "    return vec"
   ]
  },
  {
   "cell_type": "code",
   "execution_count": 150,
   "id": "b2b8b53e",
   "metadata": {},
   "outputs": [
    {
     "name": "stdout",
     "output_type": "stream",
     "text": [
      "[2, 4, 6]\n"
     ]
    }
   ],
   "source": [
    "x = [1,2,3,4,5,6]\n",
    "\n",
    "print(evenNumbers(x))"
   ]
  },
  {
   "cell_type": "code",
   "execution_count": 152,
   "id": "07c5bd25",
   "metadata": {},
   "outputs": [],
   "source": [
    "# 홀수 출력 함수\n",
    "def oddNum(num):                                 \n",
    "    list = []                                         \n",
    "    for i in num:                                     \n",
    "        if i % 2 != 0:                                \n",
    "            list.append(i)                            \n",
    "    print(list)"
   ]
  },
  {
   "cell_type": "code",
   "execution_count": 153,
   "id": "67cbaccd",
   "metadata": {},
   "outputs": [
    {
     "name": "stdout",
     "output_type": "stream",
     "text": [
      "[3, 5, 7]\n"
     ]
    }
   ],
   "source": [
    "num = [3, 4, 5, 6, 7, 8] \n",
    "\n",
    "oddNum(num)"
   ]
  },
  {
   "cell_type": "code",
   "execution_count": null,
   "id": "661f5809",
   "metadata": {},
   "outputs": [],
   "source": []
  }
 ],
 "metadata": {
  "kernelspec": {
   "display_name": "Python 3 (ipykernel)",
   "language": "python",
   "name": "python3"
  },
  "language_info": {
   "codemirror_mode": {
    "name": "ipython",
    "version": 3
   },
   "file_extension": ".py",
   "mimetype": "text/x-python",
   "name": "python",
   "nbconvert_exporter": "python",
   "pygments_lexer": "ipython3",
   "version": "3.10.11"
  }
 },
 "nbformat": 4,
 "nbformat_minor": 5
}
