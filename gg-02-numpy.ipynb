{
 "cells": [
  {
   "cell_type": "markdown",
   "id": "9a2627b7",
   "metadata": {},
   "source": [
    "## numpy : Numerical Python\n",
    "\n",
    "- 벡터(1차원 배열)나 매트릭스(2차원, 3차원 등)  n차 다 차원 배열(ndarray : n dimentional array)을 사용하면 리스트보다 계산 속도가 빠르다.\n",
    "- 리스트와 달리 각 항목은 모두 같은 타입의 숫자(정수 or 소수 등)이어야 함\n",
    "    - 1 차원 축 행( axis = 0) : Vector\n",
    "    - 2 차원 축 열( axis = 1) : Matrix(행열)\n",
    "    - 3 차원 축 채널 ( axis = 2) : Tensor(3차원 이상)\n",
    "- list와 배열 np.array(list) 비교"
   ]
  },
  {
   "cell_type": "markdown",
   "id": "04792243",
   "metadata": {},
   "source": [
    "# *(꼽) 의미"
   ]
  },
  {
   "cell_type": "markdown",
   "id": "fc1c861a",
   "metadata": {},
   "source": [
    "### ☞ list  : 반복(복사) 출력\n",
    "### ☞ 배열 : np.array(list) : 직접 항목에 적용  ->리스트 형태로 [ ] 출력\n",
    "### ☞ import"
   ]
  },
  {
   "cell_type": "code",
   "execution_count": 1,
   "id": "537fb6fd",
   "metadata": {},
   "outputs": [],
   "source": [
    "import numpy as np "
   ]
  },
  {
   "cell_type": "code",
   "execution_count": 70,
   "id": "971f3192",
   "metadata": {},
   "outputs": [
    {
     "name": "stdout",
     "output_type": "stream",
     "text": [
      "[1, 2, 10, 1, 2, 10, 1, 2, 10]\n"
     ]
    }
   ],
   "source": [
    "lst = [1,2,10]\n",
    "\n",
    "# 3번 반복의 의미\n",
    "print(lst * 3)"
   ]
  },
  {
   "cell_type": "markdown",
   "id": "5770699c",
   "metadata": {},
   "source": [
    "# 배열 : np.array()"
   ]
  },
  {
   "cell_type": "code",
   "execution_count": 3,
   "id": "b0c2a6d5",
   "metadata": {},
   "outputs": [],
   "source": [
    "import numpy as np"
   ]
  },
  {
   "cell_type": "code",
   "execution_count": 4,
   "id": "d5bd157f",
   "metadata": {},
   "outputs": [
    {
     "data": {
      "text/plain": [
       "[1, 2, 10]"
      ]
     },
     "execution_count": 4,
     "metadata": {},
     "output_type": "execute_result"
    }
   ],
   "source": [
    "lst"
   ]
  },
  {
   "cell_type": "code",
   "execution_count": 71,
   "id": "16ac9f27",
   "metadata": {},
   "outputs": [
    {
     "data": {
      "text/plain": [
       "array([ 1,  2, 10])"
      ]
     },
     "execution_count": 71,
     "metadata": {},
     "output_type": "execute_result"
    }
   ],
   "source": [
    "arr = np.array(lst)\n",
    "arr"
   ]
  },
  {
   "cell_type": "code",
   "execution_count": 72,
   "id": "e951ab1e",
   "metadata": {},
   "outputs": [
    {
     "name": "stdout",
     "output_type": "stream",
     "text": [
      "[ 3  6 30]\n"
     ]
    }
   ],
   "source": [
    "#항목에 직접 곱해짐\n",
    "print(arr*3)"
   ]
  },
  {
   "cell_type": "code",
   "execution_count": 73,
   "id": "ce7fa830",
   "metadata": {},
   "outputs": [
    {
     "name": "stdout",
     "output_type": "stream",
     "text": [
      "[101 102 110]\n"
     ]
    }
   ],
   "source": [
    "#일반 리스트와 , np.array()배열 자료를 꼭 구분해야함.\n",
    "print(arr + 100)"
   ]
  },
  {
   "cell_type": "markdown",
   "id": "e02d4752",
   "metadata": {},
   "source": [
    "### list 자료"
   ]
  },
  {
   "cell_type": "code",
   "execution_count": 74,
   "id": "24a6c96d",
   "metadata": {},
   "outputs": [
    {
     "name": "stdout",
     "output_type": "stream",
     "text": [
      "[1, 2, 3, 4, 5, 6]\n"
     ]
    }
   ],
   "source": [
    "#일반적인 list \n",
    "x=[1,2,3]\n",
    "y=[4,5,6]\n",
    "\n",
    "print(x+y)"
   ]
  },
  {
   "cell_type": "markdown",
   "id": "75de3e5b",
   "metadata": {},
   "source": [
    "### list 자료 -> np 배열 자료 변환 : np.array()"
   ]
  },
  {
   "cell_type": "code",
   "execution_count": 10,
   "id": "cbf16f00",
   "metadata": {},
   "outputs": [
    {
     "name": "stdout",
     "output_type": "stream",
     "text": [
      "[1, 2, 3, 4, 5, 6]\n",
      "[5 7 9]\n"
     ]
    }
   ],
   "source": [
    "x=[1,2,3]\n",
    "y=[4,5,6]\n",
    "\n",
    "ax=np.array(x)\n",
    "ay=np.array(y)\n",
    "\n",
    "print(x+y)\n",
    "print(ax+ay) # 원소단위 직접 계산"
   ]
  },
  {
   "cell_type": "markdown",
   "id": "b2d74f52",
   "metadata": {},
   "source": [
    "# 2차원 배열"
   ]
  },
  {
   "cell_type": "code",
   "execution_count": 11,
   "id": "9b12b522",
   "metadata": {},
   "outputs": [
    {
     "name": "stdout",
     "output_type": "stream",
     "text": [
      "[[1, 2, 3], [4, 5, 6], [7, 8, 9], [10, 11, 12]]\n"
     ]
    },
    {
     "data": {
      "text/plain": [
       "list"
      ]
     },
     "execution_count": 11,
     "metadata": {},
     "output_type": "execute_result"
    }
   ],
   "source": [
    "# 리스트 안에 리스트가 있는 것 - 2차원배열\n",
    "data = [[1,2,3],[4,5,6],[7,8,9],[10,11,12]]\n",
    "\n",
    "print(data)\n",
    "type(data)  # list"
   ]
  },
  {
   "cell_type": "code",
   "execution_count": 12,
   "id": "5ad46232",
   "metadata": {},
   "outputs": [
    {
     "name": "stdout",
     "output_type": "stream",
     "text": [
      "[[ 1  2  3]\n",
      " [ 4  5  6]\n",
      " [ 7  8  9]\n",
      " [10 11 12]]\n"
     ]
    },
    {
     "data": {
      "text/plain": [
       "numpy.ndarray"
      ]
     },
     "execution_count": 12,
     "metadata": {},
     "output_type": "execute_result"
    }
   ],
   "source": [
    "arr2 = np.array(data)\n",
    "\n",
    "print(arr2)\n",
    "type(arr2) # numpy.ndarray"
   ]
  },
  {
   "cell_type": "code",
   "execution_count": 13,
   "id": "fff6972f",
   "metadata": {},
   "outputs": [
    {
     "data": {
      "text/plain": [
       "dtype('int64')"
      ]
     },
     "execution_count": 13,
     "metadata": {},
     "output_type": "execute_result"
    }
   ],
   "source": [
    "#data type \n",
    "arr2.dtype"
   ]
  },
  {
   "cell_type": "code",
   "execution_count": 15,
   "id": "f7969986",
   "metadata": {},
   "outputs": [
    {
     "data": {
      "text/plain": [
       "12"
      ]
     },
     "execution_count": 15,
     "metadata": {},
     "output_type": "execute_result"
    }
   ],
   "source": [
    "#원소 갯수\n",
    "arr2.size"
   ]
  },
  {
   "cell_type": "code",
   "execution_count": 16,
   "id": "e2de7615",
   "metadata": {},
   "outputs": [
    {
     "data": {
      "text/plain": [
       "(4, 3)"
      ]
     },
     "execution_count": 16,
     "metadata": {},
     "output_type": "execute_result"
    }
   ],
   "source": [
    "#행열의 구조를 보여줌 \n",
    "arr2.shape"
   ]
  },
  {
   "cell_type": "markdown",
   "id": "e634e5db",
   "metadata": {},
   "source": [
    "- 배열의 특정 위치를 인덱싱하여 구함 "
   ]
  },
  {
   "cell_type": "code",
   "execution_count": 18,
   "id": "1b8b0117",
   "metadata": {},
   "outputs": [
    {
     "data": {
      "text/plain": [
       "6"
      ]
     },
     "execution_count": 18,
     "metadata": {},
     "output_type": "execute_result"
    }
   ],
   "source": [
    "# 배열의 특정 위치를 인덱싱하여 구함\n",
    "# -> 위치값 : [행 인덱스번호,열 인덱스번호] <- 행 : 인덱스번호+1 , 열 : 인덱스번호 +1 =>(두 번째 행,세 번째 열) \n",
    "arr2[1,2]"
   ]
  },
  {
   "cell_type": "code",
   "execution_count": 19,
   "id": "65168d1f",
   "metadata": {},
   "outputs": [
    {
     "data": {
      "text/plain": [
       "6"
      ]
     },
     "execution_count": 19,
     "metadata": {},
     "output_type": "execute_result"
    }
   ],
   "source": [
    "arr2[1][2]"
   ]
  },
  {
   "cell_type": "code",
   "execution_count": 20,
   "id": "f475a426",
   "metadata": {},
   "outputs": [
    {
     "data": {
      "text/plain": [
       "8"
      ]
     },
     "execution_count": 20,
     "metadata": {},
     "output_type": "execute_result"
    }
   ],
   "source": [
    "arr2[2,1]"
   ]
  },
  {
   "cell_type": "code",
   "execution_count": 21,
   "id": "acd14974",
   "metadata": {},
   "outputs": [
    {
     "data": {
      "text/plain": [
       "array([1, 2, 3])"
      ]
     },
     "execution_count": 21,
     "metadata": {},
     "output_type": "execute_result"
    }
   ],
   "source": [
    "arr2[0]"
   ]
  },
  {
   "cell_type": "code",
   "execution_count": 22,
   "id": "2cf34442",
   "metadata": {},
   "outputs": [
    {
     "data": {
      "text/plain": [
       "array([7, 8, 9])"
      ]
     },
     "execution_count": 22,
     "metadata": {},
     "output_type": "execute_result"
    }
   ],
   "source": [
    "arr2[2]"
   ]
  },
  {
   "cell_type": "code",
   "execution_count": 24,
   "id": "c4fcc5a4",
   "metadata": {},
   "outputs": [
    {
     "data": {
      "text/plain": [
       "(6, 8)"
      ]
     },
     "execution_count": 24,
     "metadata": {},
     "output_type": "execute_result"
    }
   ],
   "source": [
    "arr2[1,2],arr2[2][1]"
   ]
  },
  {
   "cell_type": "markdown",
   "id": "bfbfa93c",
   "metadata": {},
   "source": [
    "### 슬라이스(slice) - [ ], [ : ], [ : : ], [ , ]\n",
    "- 행의 일부 또는 열의 일부를 구하는 방법\n",
    "- [ 행 인덱스 , 열 인덱스] -> [ : , : ] [시작:n-1행 인덱스 , 시작 : n-1열 인덱스 ]"
   ]
  },
  {
   "cell_type": "markdown",
   "id": "ec17b25a",
   "metadata": {},
   "source": [
    "# 자격증 시험 슬라이스 나옴ㅇㅇ "
   ]
  },
  {
   "cell_type": "code",
   "execution_count": 25,
   "id": "e54a1ed6",
   "metadata": {},
   "outputs": [
    {
     "data": {
      "text/plain": [
       "array([[ 1,  2,  3],\n",
       "       [ 4,  5,  6],\n",
       "       [ 7,  8,  9],\n",
       "       [10, 11, 12]])"
      ]
     },
     "execution_count": 25,
     "metadata": {},
     "output_type": "execute_result"
    }
   ],
   "source": [
    "arr2"
   ]
  },
  {
   "cell_type": "code",
   "execution_count": 26,
   "id": "460eda9b",
   "metadata": {},
   "outputs": [
    {
     "data": {
      "text/plain": [
       "array([[ 1,  2,  3],\n",
       "       [ 4,  5,  6],\n",
       "       [ 7,  8,  9],\n",
       "       [10, 11, 12]])"
      ]
     },
     "execution_count": 26,
     "metadata": {},
     "output_type": "execute_result"
    }
   ],
   "source": [
    "arr2[:]"
   ]
  },
  {
   "cell_type": "code",
   "execution_count": 27,
   "id": "33eaba31",
   "metadata": {},
   "outputs": [
    {
     "data": {
      "text/plain": [
       "array([[2, 3],\n",
       "       [5, 6]])"
      ]
     },
     "execution_count": 27,
     "metadata": {},
     "output_type": "execute_result"
    }
   ],
   "source": [
    "arr2[:2,1:]"
   ]
  },
  {
   "cell_type": "code",
   "execution_count": 29,
   "id": "153129fb",
   "metadata": {},
   "outputs": [
    {
     "data": {
      "text/plain": [
       "array([[1, 2, 3],\n",
       "       [4, 5, 6]])"
      ]
     },
     "execution_count": 29,
     "metadata": {},
     "output_type": "execute_result"
    }
   ],
   "source": [
    "arr2[:2,:]"
   ]
  },
  {
   "cell_type": "code",
   "execution_count": 30,
   "id": "077170c0",
   "metadata": {},
   "outputs": [
    {
     "data": {
      "text/plain": [
       "array([[ 1,  2,  3],\n",
       "       [ 4,  5,  6],\n",
       "       [ 7,  8,  9],\n",
       "       [10, 11, 12]])"
      ]
     },
     "execution_count": 30,
     "metadata": {},
     "output_type": "execute_result"
    }
   ],
   "source": [
    "arr2"
   ]
  },
  {
   "cell_type": "code",
   "execution_count": 31,
   "id": "7557cee1",
   "metadata": {},
   "outputs": [
    {
     "data": {
      "text/plain": [
       "array([10, 11, 12])"
      ]
     },
     "execution_count": 31,
     "metadata": {},
     "output_type": "execute_result"
    }
   ],
   "source": [
    "#제일 마지막행\n",
    "arr2[-1]"
   ]
  },
  {
   "cell_type": "code",
   "execution_count": 32,
   "id": "be98ee97",
   "metadata": {},
   "outputs": [
    {
     "data": {
      "text/plain": [
       "array([7, 8, 9])"
      ]
     },
     "execution_count": 32,
     "metadata": {},
     "output_type": "execute_result"
    }
   ],
   "source": [
    "arr2[-2]"
   ]
  },
  {
   "cell_type": "code",
   "execution_count": 34,
   "id": "039c0e34",
   "metadata": {},
   "outputs": [
    {
     "data": {
      "text/plain": [
       "array([[ 1],\n",
       "       [ 4],\n",
       "       [ 7],\n",
       "       [10]])"
      ]
     },
     "execution_count": 34,
     "metadata": {},
     "output_type": "execute_result"
    }
   ],
   "source": [
    "#-2 + -1 해야하니까 -3 0 -1 -2 열 뽑기 .\n",
    "arr2[:,:-2]"
   ]
  },
  {
   "cell_type": "code",
   "execution_count": 36,
   "id": "5f5f435d",
   "metadata": {},
   "outputs": [
    {
     "data": {
      "text/plain": [
       "array([[1],\n",
       "       [4],\n",
       "       [7]])"
      ]
     },
     "execution_count": 36,
     "metadata": {},
     "output_type": "execute_result"
    }
   ],
   "source": [
    "# -2,-3\n",
    "arr2[:-1,:-2]"
   ]
  },
  {
   "cell_type": "markdown",
   "id": "58e4f9f6",
   "metadata": {},
   "source": [
    "# arange\n",
    "- range : 파이썬에서 기본적으로 숫자를 생성, 혹은 위치 값 출력\n",
    "- arange : numpy라이브러리, 배열에서 일정한 숫자를 생성, 혹은 위치 값 출력"
   ]
  },
  {
   "cell_type": "code",
   "execution_count": 66,
   "id": "d041a14a",
   "metadata": {},
   "outputs": [
    {
     "name": "stdout",
     "output_type": "stream",
     "text": [
      "range(0, 12)\n"
     ]
    }
   ],
   "source": [
    "# 0 ~ 11까지 숫자 생성\n",
    "data0= range(12)  # -> (0,12,1)\n",
    "print(data0)"
   ]
  },
  {
   "cell_type": "code",
   "execution_count": 69,
   "id": "94077eee",
   "metadata": {
    "scrolled": true
   },
   "outputs": [
    {
     "data": {
      "text/plain": [
       "[0, 1, 2, 3, 4, 5, 6, 7, 8, 9, 10, 11]"
      ]
     },
     "execution_count": 69,
     "metadata": {},
     "output_type": "execute_result"
    }
   ],
   "source": [
    "#del list 위에 list라는 변수를 만들어서 사용했기때문에 del 삭제해줄 필요가 있음\n",
    "x = list(range(12))\n",
    "x"
   ]
  },
  {
   "cell_type": "code",
   "execution_count": 54,
   "id": "4d0e40c8",
   "metadata": {},
   "outputs": [],
   "source": [
    "import numpy as np"
   ]
  },
  {
   "cell_type": "code",
   "execution_count": 56,
   "id": "9acca041",
   "metadata": {},
   "outputs": [
    {
     "data": {
      "text/plain": [
       "array([ 0,  1,  2,  3,  4,  5,  6,  7,  8,  9, 10, 11])"
      ]
     },
     "execution_count": 56,
     "metadata": {},
     "output_type": "execute_result"
    }
   ],
   "source": [
    "data1=np.arange(12)\n",
    "data1"
   ]
  },
  {
   "cell_type": "code",
   "execution_count": 57,
   "id": "14b7d579",
   "metadata": {},
   "outputs": [
    {
     "data": {
      "text/plain": [
       "array([[ 0,  1,  2],\n",
       "       [ 3,  4,  5],\n",
       "       [ 6,  7,  8],\n",
       "       [ 9, 10, 11]])"
      ]
     },
     "execution_count": 57,
     "metadata": {},
     "output_type": "execute_result"
    }
   ],
   "source": [
    "data2 = data1.reshape(4,3)\n",
    "data2"
   ]
  },
  {
   "cell_type": "markdown",
   "id": "adbd2ac1",
   "metadata": {},
   "source": [
    "# np.arange(12).reshapre(4,3)\n",
    "- arange와 reshape의 각각 생성된 자료를 취합해서 한번에 생성"
   ]
  },
  {
   "cell_type": "code",
   "execution_count": 77,
   "id": "1aa32532",
   "metadata": {},
   "outputs": [
    {
     "data": {
      "text/plain": [
       "array([[ 0,  1,  2],\n",
       "       [ 3,  4,  5],\n",
       "       [ 6,  7,  8],\n",
       "       [ 9, 10, 11]])"
      ]
     },
     "execution_count": 77,
     "metadata": {},
     "output_type": "execute_result"
    }
   ],
   "source": [
    "data= np.arange(12).reshape(4,3)\n",
    "data"
   ]
  },
  {
   "cell_type": "markdown",
   "id": "2fedf2d4",
   "metadata": {},
   "source": [
    "- 슬라이스 예제"
   ]
  },
  {
   "cell_type": "code",
   "execution_count": 78,
   "id": "a058cf4d",
   "metadata": {},
   "outputs": [
    {
     "name": "stdout",
     "output_type": "stream",
     "text": [
      "[[ 0  1]\n",
      " [ 3  4]\n",
      " [ 6  7]\n",
      " [ 9 10]]\n"
     ]
    }
   ],
   "source": [
    "x= data[:,:-1]\n",
    "print(x)"
   ]
  },
  {
   "cell_type": "code",
   "execution_count": 79,
   "id": "17713440",
   "metadata": {},
   "outputs": [
    {
     "name": "stdout",
     "output_type": "stream",
     "text": [
      "[[0]\n",
      " [3]\n",
      " [6]\n",
      " [9]]\n"
     ]
    }
   ],
   "source": [
    "xx=data[:,:-2]\n",
    "print(xx)"
   ]
  },
  {
   "cell_type": "code",
   "execution_count": 81,
   "id": "b4890b05",
   "metadata": {},
   "outputs": [
    {
     "name": "stdout",
     "output_type": "stream",
     "text": [
      "[ 2  5  8 11]\n"
     ]
    }
   ],
   "source": [
    "y=data[:,-1] # 뒤에는 ~ 부터 n-1까지 슬라이싱. 없으면 고유 번호로 할 것.\n",
    "print(y)"
   ]
  },
  {
   "cell_type": "code",
   "execution_count": 82,
   "id": "b292d612",
   "metadata": {},
   "outputs": [
    {
     "name": "stdout",
     "output_type": "stream",
     "text": [
      "11\n"
     ]
    }
   ],
   "source": [
    "z=data[-1,-1]\n",
    "print(z)"
   ]
  },
  {
   "cell_type": "code",
   "execution_count": 84,
   "id": "c5c59ac8",
   "metadata": {},
   "outputs": [
    {
     "data": {
      "text/plain": [
       "array([[ 0,  1,  2],\n",
       "       [ 3,  4,  5],\n",
       "       [ 6,  7,  8],\n",
       "       [ 9, 10, 11]])"
      ]
     },
     "execution_count": 84,
     "metadata": {},
     "output_type": "execute_result"
    }
   ],
   "source": [
    "data= np.arange(12).reshape(4,3)\n",
    "data"
   ]
  },
  {
   "cell_type": "code",
   "execution_count": 86,
   "id": "a758d1e1",
   "metadata": {},
   "outputs": [
    {
     "data": {
      "text/plain": [
       "array([[ 0,  0,  0],\n",
       "       [ 0,  4,  5],\n",
       "       [ 6,  7,  8],\n",
       "       [ 9, 10, 11]])"
      ]
     },
     "execution_count": 86,
     "metadata": {},
     "output_type": "execute_result"
    }
   ],
   "source": [
    "#이런 문제도 나온디야\n",
    "data[data<4]=0\n",
    "data"
   ]
  },
  {
   "cell_type": "code",
   "execution_count": 87,
   "id": "a6cf51bd",
   "metadata": {},
   "outputs": [
    {
     "data": {
      "text/plain": [
       "array([[ True,  True,  True],\n",
       "       [ True, False, False],\n",
       "       [False, False, False],\n",
       "       [False, False, False]])"
      ]
     },
     "execution_count": 87,
     "metadata": {},
     "output_type": "execute_result"
    }
   ],
   "source": [
    "data<4"
   ]
  },
  {
   "cell_type": "code",
   "execution_count": 89,
   "id": "c2707641",
   "metadata": {},
   "outputs": [
    {
     "data": {
      "text/plain": [
       "array([[ 0,  0,  0],\n",
       "       [ 0,  0,  5],\n",
       "       [ 6,  7,  8],\n",
       "       [ 9, 10, 11]])"
      ]
     },
     "execution_count": 89,
     "metadata": {},
     "output_type": "execute_result"
    }
   ],
   "source": [
    "data[data<5]=0\n",
    "data"
   ]
  },
  {
   "cell_type": "code",
   "execution_count": 90,
   "id": "5b55a96a",
   "metadata": {},
   "outputs": [
    {
     "data": {
      "text/plain": [
       "array([[ True,  True,  True],\n",
       "       [ True,  True, False],\n",
       "       [False, False, False],\n",
       "       [False, False, False]])"
      ]
     },
     "execution_count": 90,
     "metadata": {},
     "output_type": "execute_result"
    }
   ],
   "source": [
    "data<=4"
   ]
  },
  {
   "cell_type": "code",
   "execution_count": 91,
   "id": "7608136c",
   "metadata": {},
   "outputs": [
    {
     "data": {
      "text/plain": [
       "array([[0., 0., 0.],\n",
       "       [0., 0., 0.]])"
      ]
     },
     "execution_count": 91,
     "metadata": {},
     "output_type": "execute_result"
    }
   ],
   "source": [
    "np.zeros((2,3))"
   ]
  },
  {
   "cell_type": "code",
   "execution_count": 92,
   "id": "53dd8f11",
   "metadata": {},
   "outputs": [
    {
     "data": {
      "text/plain": [
       "array([[ 0,  1,  2],\n",
       "       [ 3,  4,  5],\n",
       "       [ 6,  7,  8],\n",
       "       [ 9, 10, 11]])"
      ]
     },
     "execution_count": 92,
     "metadata": {},
     "output_type": "execute_result"
    }
   ],
   "source": [
    "data= np.arange(12).reshape(4,3)\n",
    "data"
   ]
  },
  {
   "cell_type": "code",
   "execution_count": 94,
   "id": "edeb61b2",
   "metadata": {},
   "outputs": [
    {
     "data": {
      "text/plain": [
       "5.5"
      ]
     },
     "execution_count": 94,
     "metadata": {},
     "output_type": "execute_result"
    }
   ],
   "source": [
    "data.mean()"
   ]
  },
  {
   "cell_type": "code",
   "execution_count": 95,
   "id": "b653952c",
   "metadata": {},
   "outputs": [
    {
     "data": {
      "text/plain": [
       "array([4.5, 5.5, 6.5])"
      ]
     },
     "execution_count": 95,
     "metadata": {},
     "output_type": "execute_result"
    }
   ],
   "source": [
    "data.mean(axis=0) # axis=0 열 기준 평균 산출"
   ]
  },
  {
   "cell_type": "code",
   "execution_count": 96,
   "id": "20f13eff",
   "metadata": {},
   "outputs": [
    {
     "data": {
      "text/plain": [
       "array([ 1.,  4.,  7., 10.])"
      ]
     },
     "execution_count": 96,
     "metadata": {},
     "output_type": "execute_result"
    }
   ],
   "source": [
    "data.mean(axis=1) # axis=1 행 기준 "
   ]
  },
  {
   "cell_type": "code",
   "execution_count": 98,
   "id": "14b2a8ac",
   "metadata": {},
   "outputs": [
    {
     "data": {
      "text/plain": [
       "array([4.5, 5.5, 6.5])"
      ]
     },
     "execution_count": 98,
     "metadata": {},
     "output_type": "execute_result"
    }
   ],
   "source": [
    "data.mean(0) # axis 생략 가능 "
   ]
  },
  {
   "cell_type": "code",
   "execution_count": 99,
   "id": "c28c3010",
   "metadata": {},
   "outputs": [
    {
     "data": {
      "text/plain": [
       "array([ 1.,  4.,  7., 10.])"
      ]
     },
     "execution_count": 99,
     "metadata": {},
     "output_type": "execute_result"
    }
   ],
   "source": [
    "data.mean(1)"
   ]
  },
  {
   "cell_type": "code",
   "execution_count": 100,
   "id": "7a96e43b",
   "metadata": {},
   "outputs": [
    {
     "data": {
      "text/plain": [
       "66"
      ]
     },
     "execution_count": 100,
     "metadata": {},
     "output_type": "execute_result"
    }
   ],
   "source": [
    "data.sum()"
   ]
  },
  {
   "cell_type": "code",
   "execution_count": 102,
   "id": "e919daa2",
   "metadata": {},
   "outputs": [
    {
     "data": {
      "text/plain": [
       "array([18, 22, 26])"
      ]
     },
     "execution_count": 102,
     "metadata": {},
     "output_type": "execute_result"
    }
   ],
   "source": [
    "data.sum(0) #열기준"
   ]
  },
  {
   "cell_type": "code",
   "execution_count": 103,
   "id": "7a49112a",
   "metadata": {},
   "outputs": [
    {
     "data": {
      "text/plain": [
       "array([ 3, 12, 21, 30])"
      ]
     },
     "execution_count": 103,
     "metadata": {},
     "output_type": "execute_result"
    }
   ],
   "source": [
    "data.sum(1) # 행기준"
   ]
  },
  {
   "cell_type": "code",
   "execution_count": null,
   "id": "f28ee1f0",
   "metadata": {},
   "outputs": [],
   "source": []
  }
 ],
 "metadata": {
  "kernelspec": {
   "display_name": "Python 3 (ipykernel)",
   "language": "python",
   "name": "python3"
  },
  "language_info": {
   "codemirror_mode": {
    "name": "ipython",
    "version": 3
   },
   "file_extension": ".py",
   "mimetype": "text/x-python",
   "name": "python",
   "nbconvert_exporter": "python",
   "pygments_lexer": "ipython3",
   "version": "3.10.11"
  }
 },
 "nbformat": 4,
 "nbformat_minor": 5
}
