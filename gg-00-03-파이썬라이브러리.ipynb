{
 "cells": [
  {
   "cell_type": "markdown",
   "metadata": {},
   "source": [
    "## p44\n",
    "\n",
    "## ※ 파이썬 라이브러리"
   ]
  },
  {
   "cell_type": "markdown",
   "metadata": {},
   "source": [
    "## ☞ numpy\n",
    "\n",
    "- numerical python으로 다차원 array(매트릭스)를 제공 연산, 수치계산의 연산속도를 높임"
   ]
  },
  {
   "cell_type": "markdown",
   "metadata": {},
   "source": [
    "## ☞ pandas \n",
    "\n",
    "-  행,열의 테이블 구조의 데이터를 편리하게 사용\n",
    "-  DataFrame을 제공"
   ]
  },
  {
   "cell_type": "markdown",
   "metadata": {},
   "source": [
    "## ☞ matplotlib\n",
    "\n",
    "-  그림, 그래프 등을그리는 히스트그램, 박스플롯, 산포도(scatter plot)등 시각화 함수 라이브러리 - seaborn"
   ]
  },
  {
   "cell_type": "markdown",
   "metadata": {},
   "source": [
    "## ☞ scikit - learn(sklearn)\n",
    "\n",
    "-  선형회귀, 결정트리, 랜덤포레스트 등 머신러닝 알고리즘을 포함하고 있는 라이브러리"
   ]
  },
  {
   "cell_type": "code",
   "execution_count": null,
   "metadata": {},
   "outputs": [],
   "source": []
  },
  {
   "cell_type": "code",
   "execution_count": null,
   "metadata": {},
   "outputs": [],
   "source": []
  }
 ],
 "metadata": {
  "kernelspec": {
   "display_name": "Python 3 (ipykernel)",
   "language": "python",
   "name": "python3"
  },
  "language_info": {
   "codemirror_mode": {
    "name": "ipython",
    "version": 3
   },
   "file_extension": ".py",
   "mimetype": "text/x-python",
   "name": "python",
   "nbconvert_exporter": "python",
   "pygments_lexer": "ipython3",
   "version": "3.10.11"
  }
 },
 "nbformat": 4,
 "nbformat_minor": 2
}
