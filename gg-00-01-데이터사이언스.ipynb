{
 "cells": [
  {
   "cell_type": "markdown",
   "id": "19860130",
   "metadata": {},
   "source": [
    "# 1. 데이터 사이언스 - p3"
   ]
  },
  {
   "cell_type": "markdown",
   "id": "961e7770",
   "metadata": {},
   "source": [
    "    1.1. 데이터 중신 산업\n",
    "    1.2. 데이터 사이언스 범위\n",
    "    1.3. 데이터 사이언스 응용 "
   ]
  },
  {
   "cell_type": "markdown",
   "id": "599c2d8b",
   "metadata": {},
   "source": [
    "###    1.1. 데이터 중신 산업"
   ]
  },
  {
   "cell_type": "markdown",
   "id": "4c10b0f8",
   "metadata": {},
   "source": [
    "- 정보통신기술(ICT - Information & Communications Technology) 기반\n",
    "    - 4차 산업혁명\n",
    "    - AI(인공지능 : Artificial Intelligence)의 확대\n",
    "    - AI의 미래"
   ]
  },
  {
   "cell_type": "markdown",
   "id": "44d75cef",
   "metadata": {},
   "source": [
    "###  1.2. 데이터 사이언스 범위\n"
   ]
  },
  {
   "cell_type": "markdown",
   "id": "4f3e133b",
   "metadata": {},
   "source": [
    "- 데이터 사이언스 - 데이터를 분석하여 의미있는 결과를 얻는 기술\n",
    "    - 통계 분석\n",
    "    - 데이터 마이닝 - 데이터에 숨겨져 있던 가치 있는 새로운 지식을 얻는 과정\n",
    "    - 비지니스 인텔리전스 - 데이터 분석을 통해 새로운 비지니스 전략을 얻는 것\n",
    "    - 빅테이터 분석 - 대량의 데이터를 분석하여 새로운 의미 있는 정보를 얻는 것\n",
    "    - 인공지능(AI)\n",
    "    - 머신러닝\n",
    "    - 딥러닝\n",
    "    - 사물 인터넷(IoT - Internet of Things)\n",
    "    - 데이터 사이언스"
   ]
  },
  {
   "cell_type": "markdown",
   "id": "7fc709a9",
   "metadata": {},
   "source": [
    "### 1.3. 데이터 사이언스 응용"
   ]
  },
  {
   "cell_type": "markdown",
   "id": "39460bb0",
   "metadata": {},
   "source": [
    "- 데이터 사이언스의 응용 사례   \n",
    "    - 생활\n",
    "    - 스마트 홈\n",
    "    - 마케팅\n",
    "    - 로봇\n",
    "    - 금융\n",
    "    - 핀테크 - 금융과 기술의 융합\n",
    "    - 안전\n",
    "    - 산업\n",
    "    - 에너지 관리\n",
    "    - 자동차\n",
    "    - 자율 주행차\n",
    "    - 건강\n",
    "    - 스포츠"
   ]
  }
 ],
 "metadata": {
  "kernelspec": {
   "display_name": "Python 3",
   "language": "python",
   "name": "python3"
  },
  "language_info": {
   "codemirror_mode": {
    "name": "ipython",
    "version": 3
   },
   "file_extension": ".py",
   "mimetype": "text/x-python",
   "name": "python",
   "nbconvert_exporter": "python",
   "pygments_lexer": "ipython3",
   "version": "3.8.8"
  }
 },
 "nbformat": 4,
 "nbformat_minor": 5
}
